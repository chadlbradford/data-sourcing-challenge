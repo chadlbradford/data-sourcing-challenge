{
 "cells": [
  {
   "cell_type": "markdown",
   "metadata": {},
   "source": [
    "### Import Required Libraries and Set Up Environment Variables"
   ]
  },
  {
   "cell_type": "code",
   "execution_count": 181,
   "metadata": {},
   "outputs": [],
   "source": [
    "# Dependencies\n",
    "import requests\n",
    "import time\n",
    "from dotenv import load_dotenv\n",
    "import os\n",
    "import pandas as pd\n",
    "import json\n",
    "import os\n",
    "from datetime import datetime\n",
    "## Load the NASA_API_KEY from the env file\n",
    "load_dotenv()\n",
    "NASA_API_KEY = os.getenv('NASA_API_KEY')"
   ]
  },
  {
   "cell_type": "markdown",
   "metadata": {},
   "source": [
    "### CME Data"
   ]
  },
  {
   "cell_type": "code",
   "execution_count": 182,
   "metadata": {},
   "outputs": [
    {
     "name": "stdout",
     "output_type": "stream",
     "text": [
      "CME URL: https://api.nasa.gov/DONKI/CME?startDate=2013-05-01&endDate=2024-05-01&api_key=eBGsZaargHGGIgrOyuvIfS79QdeZ1f48ptPDSMu3\n"
     ]
    }
   ],
   "source": [
    "# Set the base URL to NASA's DONKI API:\n",
    "base_url = \"https://api.nasa.gov/DONKI/\"\n",
    "\n",
    "# Set the specifier for CMEs:\n",
    "CME = \"CME\"\n",
    "\n",
    "# Search for CMEs published between a begin and end date\n",
    "startDate = \"2013-05-01\"\n",
    "endDate   = \"2024-05-01\"\n",
    "\n",
    "# Build URL for CME\n",
    "cme_url = f\"{base_url}{CME}?startDate={startDate}&endDate={endDate}&api_key={NASA_API_KEY}\"\n",
    "\n",
    "# Print the built URL to verify\n",
    "print(\"CME URL:\", cme_url)\n"
   ]
  },
  {
   "cell_type": "code",
   "execution_count": 159,
   "metadata": {},
   "outputs": [
    {
     "name": "stdout",
     "output_type": "stream",
     "text": [
      "Request successful!\n"
     ]
    }
   ],
   "source": [
    "# Make a \"GET\" request for the CME URL and store it in a variable named cme_response\n",
    "cme_response = requests.get(cme_url)\n",
    "\n",
    "# Check the response status code\n",
    "if cme_response.status_code == 200:\n",
    "    print(\"Request successful!\")\n",
    "else:\n",
    "    print(f\"Request failed with status code: {cme_response.status_code}\")"
   ]
  },
  {
   "cell_type": "code",
   "execution_count": 160,
   "metadata": {},
   "outputs": [
    {
     "name": "stdout",
     "output_type": "stream",
     "text": [
      "CME JSON data successfully parsed!\n"
     ]
    }
   ],
   "source": [
    "# Convert the response variable to json and store it as a variable named cme_json\n",
    "try:\n",
    "    cme_json = cme_response.json()\n",
    "    print(\"CME JSON data successfully parsed!\")\n",
    "except json.JSONDecodeError:\n",
    "    print(\"Failed to parse JSON from the response.\")"
   ]
  },
  {
   "cell_type": "code",
   "execution_count": 161,
   "metadata": {
    "scrolled": true
   },
   "outputs": [
    {
     "name": "stdout",
     "output_type": "stream",
     "text": [
      "First Result in JSON format:\n",
      "{\n",
      "    \"activityID\": \"2013-05-01T03:12:00-CME-001\",\n",
      "    \"catalog\": \"M2M_CATALOG\",\n",
      "    \"startTime\": \"2013-05-01T03:12Z\",\n",
      "    \"instruments\": [\n",
      "        {\n",
      "            \"displayName\": \"SOHO: LASCO/C2\"\n",
      "        },\n",
      "        {\n",
      "            \"displayName\": \"SOHO: LASCO/C3\"\n",
      "        },\n",
      "        {\n",
      "            \"displayName\": \"STEREO A: SECCHI/COR2\"\n",
      "        },\n",
      "        {\n",
      "            \"displayName\": \"STEREO B: SECCHI/COR2\"\n",
      "        }\n",
      "    ],\n",
      "    \"sourceLocation\": \"\",\n",
      "    \"activeRegionNum\": null,\n",
      "    \"note\": \"\",\n",
      "    \"submissionTime\": \"2013-08-07T16:54Z\",\n",
      "    \"versionId\": 1,\n",
      "    \"link\": \"https://webtools.ccmc.gsfc.nasa.gov/DONKI/view/CME/2349/-1\",\n",
      "    \"cmeAnalyses\": [\n",
      "        {\n",
      "            \"isMostAccurate\": true,\n",
      "            \"time21_5\": \"2013-05-01T07:07Z\",\n",
      "            \"latitude\": 12.0,\n",
      "            \"longitude\": -120.0,\n",
      "            \"halfAngle\": 36.0,\n",
      "            \"speed\": 860.0,\n",
      "            \"type\": \"C\",\n",
      "            \"featureCode\": \"null\",\n",
      "            \"imageType\": null,\n",
      "            \"measurementTechnique\": \"null\",\n",
      "            \"note\": \"\",\n",
      "            \"levelOfData\": 0,\n",
      "            \"tilt\": null,\n",
      "            \"minorHalfWidth\": null,\n",
      "            \"speedMeasuredAtHeight\": null,\n",
      "            \"submissionTime\": \"2013-08-07T16:54Z\",\n",
      "            \"link\": \"https://webtools.ccmc.gsfc.nasa.gov/DONKI/view/CMEAnalysis/2350/-1\",\n",
      "            \"enlilList\": [\n",
      "                {\n",
      "                    \"modelCompletionTime\": \"2013-05-01T08:32Z\",\n",
      "                    \"au\": 2.0,\n",
      "                    \"estimatedShockArrivalTime\": null,\n",
      "                    \"estimatedDuration\": null,\n",
      "                    \"rmin_re\": null,\n",
      "                    \"kp_18\": null,\n",
      "                    \"kp_90\": null,\n",
      "                    \"kp_135\": null,\n",
      "                    \"kp_180\": null,\n",
      "                    \"isEarthGB\": false,\n",
      "                    \"link\": \"https://webtools.ccmc.gsfc.nasa.gov/DONKI/view/WSA-ENLIL/2348/-1\",\n",
      "                    \"impactList\": [\n",
      "                        {\n",
      "                            \"isGlancingBlow\": false,\n",
      "                            \"location\": \"STEREO B\",\n",
      "                            \"arrivalTime\": \"2013-05-04T06:16Z\"\n",
      "                        }\n",
      "                    ],\n",
      "                    \"cmeIDs\": [\n",
      "                        \"2013-05-01T03:12:00-CME-001\"\n",
      "                    ]\n",
      "                }\n",
      "            ]\n",
      "        }\n",
      "    ],\n",
      "    \"linkedEvents\": [\n",
      "        {\n",
      "            \"activityID\": \"2013-05-04T04:52:00-IPS-001\"\n",
      "        }\n",
      "    ]\n",
      "}\n"
     ]
    }
   ],
   "source": [
    "# Preview the first result in JSON format\n",
    "# Use json.dumps with argument indent=4 to format data\n",
    "if isinstance(cme_json, list) and len(cme_json) > 0:\n",
    "    first_result = cme_json[0]  # Get the first item in the list\n",
    "    formatted_result = json.dumps(first_result, indent=4)  # Format with indentation\n",
    "    print(\"First Result in JSON format:\")\n",
    "    print(formatted_result)\n",
    "else:\n",
    "    print(\"No results found or data is not in the expected format.\")"
   ]
  },
  {
   "cell_type": "code",
   "execution_count": 162,
   "metadata": {},
   "outputs": [
    {
     "name": "stdout",
     "output_type": "stream",
     "text": [
      "CME data successfully converted to a DataFrame!\n",
      "DataFrame filtered to keep only the specified columns:\n",
      "                    activityID          startTime                                     linkedEvents\n",
      "0  2013-05-01T03:12:00-CME-001  2013-05-01T03:12Z  [{'activityID': '2013-05-04T04:52:00-IPS-001'}]\n",
      "1  2013-05-02T05:24:00-CME-001  2013-05-02T05:24Z                                             None\n",
      "2  2013-05-02T14:36:00-CME-001  2013-05-02T14:36Z                                             None\n",
      "3  2013-05-03T18:00:00-CME-001  2013-05-03T18:00Z                                             None\n",
      "4  2013-05-03T22:36:00-CME-001  2013-05-03T22:36Z  [{'activityID': '2013-05-07T04:37:00-IPS-001'}]\n",
      "5  2013-05-06T14:36:00-CME-001  2013-05-06T14:36Z                                             None\n",
      "6  2013-05-08T12:39:00-CME-001  2013-05-08T12:39Z                                             None\n",
      "7  2013-05-09T19:29:00-CME-001  2013-05-09T19:29Z  [{'activityID': '2013-05-12T23:30:00-IPS-001'}]\n",
      "8  2013-05-10T19:12:00-CME-001  2013-05-10T19:12Z                                             None\n",
      "9  2013-05-11T23:54:00-CME-001  2013-05-11T23:54Z                                             None\n"
     ]
    }
   ],
   "source": [
    "# Convert cme_json to a Pandas DataFrame \n",
    "if isinstance(cme_json, list):  # Ensure the data is a list\n",
    "    cme_df = pd.DataFrame(cme_json)\n",
    "    print(\"CME data successfully converted to a DataFrame!\")\n",
    "    #print(cme_df.head())  # Preview the first few rows of the DataFrame\n",
    "else:\n",
    "    print(\"The JSON data is not in the expected format (list). Conversion to DataFrame failed.\")\n",
    "\n",
    "# Keep only the specified columns\n",
    "columns_to_keep = [\"activityID\", \"startTime\", \"linkedEvents\"]\n",
    "\n",
    "if set(columns_to_keep).issubset(cme_df.columns):  # Check if all columns exist in the DataFrame\n",
    "    cme_df = cme_df[columns_to_keep]\n",
    "    print(\"DataFrame filtered to keep only the specified columns:\")\n",
    "    print(cme_df.head(10))    # Preview the filtered DataFrame\n",
    "else:\n",
    "    missing_columns = set(columns_to_keep) - set(cme_df.columns)\n",
    "    print(f\"The following columns are missing in the DataFrame: {missing_columns}\")\n",
    "\n"
   ]
  },
  {
   "cell_type": "code",
   "execution_count": 163,
   "metadata": {},
   "outputs": [
    {
     "data": {
      "text/html": [
       "<div>\n",
       "<style scoped>\n",
       "    .dataframe tbody tr th:only-of-type {\n",
       "        vertical-align: middle;\n",
       "    }\n",
       "\n",
       "    .dataframe tbody tr th {\n",
       "        vertical-align: top;\n",
       "    }\n",
       "\n",
       "    .dataframe thead th {\n",
       "        text-align: right;\n",
       "    }\n",
       "</style>\n",
       "<table border=\"1\" class=\"dataframe\">\n",
       "  <thead>\n",
       "    <tr style=\"text-align: right;\">\n",
       "      <th></th>\n",
       "      <th>activityID</th>\n",
       "      <th>startTime</th>\n",
       "      <th>linkedEvents</th>\n",
       "    </tr>\n",
       "  </thead>\n",
       "  <tbody>\n",
       "    <tr>\n",
       "      <th>0</th>\n",
       "      <td>2013-05-01T03:12:00-CME-001</td>\n",
       "      <td>2013-05-01T03:12Z</td>\n",
       "      <td>[{'activityID': '2013-05-04T04:52:00-IPS-001'}]</td>\n",
       "    </tr>\n",
       "    <tr>\n",
       "      <th>1</th>\n",
       "      <td>2013-05-02T05:24:00-CME-001</td>\n",
       "      <td>2013-05-02T05:24Z</td>\n",
       "      <td>None</td>\n",
       "    </tr>\n",
       "    <tr>\n",
       "      <th>2</th>\n",
       "      <td>2013-05-02T14:36:00-CME-001</td>\n",
       "      <td>2013-05-02T14:36Z</td>\n",
       "      <td>None</td>\n",
       "    </tr>\n",
       "    <tr>\n",
       "      <th>3</th>\n",
       "      <td>2013-05-03T18:00:00-CME-001</td>\n",
       "      <td>2013-05-03T18:00Z</td>\n",
       "      <td>None</td>\n",
       "    </tr>\n",
       "    <tr>\n",
       "      <th>4</th>\n",
       "      <td>2013-05-03T22:36:00-CME-001</td>\n",
       "      <td>2013-05-03T22:36Z</td>\n",
       "      <td>[{'activityID': '2013-05-07T04:37:00-IPS-001'}]</td>\n",
       "    </tr>\n",
       "    <tr>\n",
       "      <th>5</th>\n",
       "      <td>2013-05-06T14:36:00-CME-001</td>\n",
       "      <td>2013-05-06T14:36Z</td>\n",
       "      <td>None</td>\n",
       "    </tr>\n",
       "    <tr>\n",
       "      <th>6</th>\n",
       "      <td>2013-05-08T12:39:00-CME-001</td>\n",
       "      <td>2013-05-08T12:39Z</td>\n",
       "      <td>None</td>\n",
       "    </tr>\n",
       "    <tr>\n",
       "      <th>7</th>\n",
       "      <td>2013-05-09T19:29:00-CME-001</td>\n",
       "      <td>2013-05-09T19:29Z</td>\n",
       "      <td>[{'activityID': '2013-05-12T23:30:00-IPS-001'}]</td>\n",
       "    </tr>\n",
       "    <tr>\n",
       "      <th>8</th>\n",
       "      <td>2013-05-10T19:12:00-CME-001</td>\n",
       "      <td>2013-05-10T19:12Z</td>\n",
       "      <td>None</td>\n",
       "    </tr>\n",
       "    <tr>\n",
       "      <th>9</th>\n",
       "      <td>2013-05-11T23:54:00-CME-001</td>\n",
       "      <td>2013-05-11T23:54Z</td>\n",
       "      <td>None</td>\n",
       "    </tr>\n",
       "  </tbody>\n",
       "</table>\n",
       "</div>"
      ],
      "text/plain": [
       "                    activityID          startTime                                     linkedEvents\n",
       "0  2013-05-01T03:12:00-CME-001  2013-05-01T03:12Z  [{'activityID': '2013-05-04T04:52:00-IPS-001'}]\n",
       "1  2013-05-02T05:24:00-CME-001  2013-05-02T05:24Z                                             None\n",
       "2  2013-05-02T14:36:00-CME-001  2013-05-02T14:36Z                                             None\n",
       "3  2013-05-03T18:00:00-CME-001  2013-05-03T18:00Z                                             None\n",
       "4  2013-05-03T22:36:00-CME-001  2013-05-03T22:36Z  [{'activityID': '2013-05-07T04:37:00-IPS-001'}]\n",
       "5  2013-05-06T14:36:00-CME-001  2013-05-06T14:36Z                                             None\n",
       "6  2013-05-08T12:39:00-CME-001  2013-05-08T12:39Z                                             None\n",
       "7  2013-05-09T19:29:00-CME-001  2013-05-09T19:29Z  [{'activityID': '2013-05-12T23:30:00-IPS-001'}]\n",
       "8  2013-05-10T19:12:00-CME-001  2013-05-10T19:12Z                                             None\n",
       "9  2013-05-11T23:54:00-CME-001  2013-05-11T23:54Z                                             None"
      ]
     },
     "execution_count": 163,
     "metadata": {},
     "output_type": "execute_result"
    }
   ],
   "source": [
    "cme_df.head(10)\n"
   ]
  },
  {
   "cell_type": "code",
   "execution_count": 164,
   "metadata": {},
   "outputs": [
    {
     "name": "stdout",
     "output_type": "stream",
     "text": [
      "<class 'pandas.core.frame.DataFrame'>\n",
      "RangeIndex: 5524 entries, 0 to 5523\n",
      "Data columns (total 3 columns):\n",
      " #   Column        Non-Null Count  Dtype \n",
      "---  ------        --------------  ----- \n",
      " 0   activityID    5524 non-null   object\n",
      " 1   startTime     5524 non-null   object\n",
      " 2   linkedEvents  1023 non-null   object\n",
      "dtypes: object(3)\n",
      "memory usage: 129.6+ KB\n"
     ]
    }
   ],
   "source": [
    "cme_df.info()"
   ]
  },
  {
   "cell_type": "code",
   "execution_count": 165,
   "metadata": {},
   "outputs": [
    {
     "data": {
      "text/html": [
       "<div>\n",
       "<style scoped>\n",
       "    .dataframe tbody tr th:only-of-type {\n",
       "        vertical-align: middle;\n",
       "    }\n",
       "\n",
       "    .dataframe tbody tr th {\n",
       "        vertical-align: top;\n",
       "    }\n",
       "\n",
       "    .dataframe thead th {\n",
       "        text-align: right;\n",
       "    }\n",
       "</style>\n",
       "<table border=\"1\" class=\"dataframe\">\n",
       "  <thead>\n",
       "    <tr style=\"text-align: right;\">\n",
       "      <th></th>\n",
       "      <th>activityID</th>\n",
       "      <th>startTime</th>\n",
       "      <th>linkedEvents</th>\n",
       "    </tr>\n",
       "  </thead>\n",
       "  <tbody>\n",
       "    <tr>\n",
       "      <th>0</th>\n",
       "      <td>2013-05-01T03:12:00-CME-001</td>\n",
       "      <td>2013-05-01T03:12Z</td>\n",
       "      <td>[{'activityID': '2013-05-04T04:52:00-IPS-001'}]</td>\n",
       "    </tr>\n",
       "    <tr>\n",
       "      <th>4</th>\n",
       "      <td>2013-05-03T22:36:00-CME-001</td>\n",
       "      <td>2013-05-03T22:36Z</td>\n",
       "      <td>[{'activityID': '2013-05-07T04:37:00-IPS-001'}]</td>\n",
       "    </tr>\n",
       "    <tr>\n",
       "      <th>7</th>\n",
       "      <td>2013-05-09T19:29:00-CME-001</td>\n",
       "      <td>2013-05-09T19:29Z</td>\n",
       "      <td>[{'activityID': '2013-05-12T23:30:00-IPS-001'}]</td>\n",
       "    </tr>\n",
       "    <tr>\n",
       "      <th>10</th>\n",
       "      <td>2013-05-13T02:54:00-CME-001</td>\n",
       "      <td>2013-05-13T02:54Z</td>\n",
       "      <td>[{'activityID': '2013-05-13T01:53:00-FLR-001'}...</td>\n",
       "    </tr>\n",
       "    <tr>\n",
       "      <th>13</th>\n",
       "      <td>2013-05-13T16:18:00-CME-001</td>\n",
       "      <td>2013-05-13T16:18Z</td>\n",
       "      <td>[{'activityID': '2013-05-13T15:40:00-FLR-001'}...</td>\n",
       "    </tr>\n",
       "    <tr>\n",
       "      <th>14</th>\n",
       "      <td>2013-05-14T01:30:00-CME-001</td>\n",
       "      <td>2013-05-14T01:30Z</td>\n",
       "      <td>[{'activityID': '2013-05-14T01:00:00-FLR-001'}]</td>\n",
       "    </tr>\n",
       "    <tr>\n",
       "      <th>15</th>\n",
       "      <td>2013-05-15T02:18:00-CME-001</td>\n",
       "      <td>2013-05-15T02:18Z</td>\n",
       "      <td>[{'activityID': '2013-05-15T01:25:00-FLR-001'}...</td>\n",
       "    </tr>\n",
       "    <tr>\n",
       "      <th>17</th>\n",
       "      <td>2013-05-17T09:24:00-CME-001</td>\n",
       "      <td>2013-05-17T09:24Z</td>\n",
       "      <td>[{'activityID': '2013-05-19T22:20:00-IPS-001'}]</td>\n",
       "    </tr>\n",
       "    <tr>\n",
       "      <th>18</th>\n",
       "      <td>2013-05-18T03:24:00-CME-001</td>\n",
       "      <td>2013-05-18T03:24Z</td>\n",
       "      <td>[{'activityID': '2013-05-19T18:53:00-IPS-001'}]</td>\n",
       "    </tr>\n",
       "    <tr>\n",
       "      <th>20</th>\n",
       "      <td>2013-05-22T09:12:00-CME-001</td>\n",
       "      <td>2013-05-22T09:12Z</td>\n",
       "      <td>[{'activityID': '2013-05-25T20:00:00-IPS-001'}]</td>\n",
       "    </tr>\n",
       "  </tbody>\n",
       "</table>\n",
       "</div>"
      ],
      "text/plain": [
       "                     activityID          startTime                                       linkedEvents\n",
       "0   2013-05-01T03:12:00-CME-001  2013-05-01T03:12Z    [{'activityID': '2013-05-04T04:52:00-IPS-001'}]\n",
       "4   2013-05-03T22:36:00-CME-001  2013-05-03T22:36Z    [{'activityID': '2013-05-07T04:37:00-IPS-001'}]\n",
       "7   2013-05-09T19:29:00-CME-001  2013-05-09T19:29Z    [{'activityID': '2013-05-12T23:30:00-IPS-001'}]\n",
       "10  2013-05-13T02:54:00-CME-001  2013-05-13T02:54Z  [{'activityID': '2013-05-13T01:53:00-FLR-001'}...\n",
       "13  2013-05-13T16:18:00-CME-001  2013-05-13T16:18Z  [{'activityID': '2013-05-13T15:40:00-FLR-001'}...\n",
       "14  2013-05-14T01:30:00-CME-001  2013-05-14T01:30Z    [{'activityID': '2013-05-14T01:00:00-FLR-001'}]\n",
       "15  2013-05-15T02:18:00-CME-001  2013-05-15T02:18Z  [{'activityID': '2013-05-15T01:25:00-FLR-001'}...\n",
       "17  2013-05-17T09:24:00-CME-001  2013-05-17T09:24Z    [{'activityID': '2013-05-19T22:20:00-IPS-001'}]\n",
       "18  2013-05-18T03:24:00-CME-001  2013-05-18T03:24Z    [{'activityID': '2013-05-19T18:53:00-IPS-001'}]\n",
       "20  2013-05-22T09:12:00-CME-001  2013-05-22T09:12Z    [{'activityID': '2013-05-25T20:00:00-IPS-001'}]"
      ]
     },
     "execution_count": 165,
     "metadata": {},
     "output_type": "execute_result"
    }
   ],
   "source": [
    "# Notice that the linkedEvents column allows us to identify the corresponding GST\n",
    "# Remove rows with missing 'linkedEvents' since we won't be able to assign these to GSTs\n",
    "cme_df = cme_df.dropna(subset=['linkedEvents'])\n",
    "cme_df.head(10)\n"
   ]
  },
  {
   "cell_type": "code",
   "execution_count": 166,
   "metadata": {},
   "outputs": [
    {
     "name": "stdout",
     "output_type": "stream",
     "text": [
      "<class 'pandas.core.frame.DataFrame'>\n",
      "Index: 1023 entries, 0 to 5523\n",
      "Data columns (total 3 columns):\n",
      " #   Column        Non-Null Count  Dtype \n",
      "---  ------        --------------  ----- \n",
      " 0   activityID    1023 non-null   object\n",
      " 1   startTime     1023 non-null   object\n",
      " 2   linkedEvents  1023 non-null   object\n",
      "dtypes: object(3)\n",
      "memory usage: 32.0+ KB\n"
     ]
    }
   ],
   "source": [
    "cme_df.info()"
   ]
  },
  {
   "cell_type": "code",
   "execution_count": 167,
   "metadata": {},
   "outputs": [
    {
     "data": {
      "text/html": [
       "<div>\n",
       "<style scoped>\n",
       "    .dataframe tbody tr th:only-of-type {\n",
       "        vertical-align: middle;\n",
       "    }\n",
       "\n",
       "    .dataframe tbody tr th {\n",
       "        vertical-align: top;\n",
       "    }\n",
       "\n",
       "    .dataframe thead th {\n",
       "        text-align: right;\n",
       "    }\n",
       "</style>\n",
       "<table border=\"1\" class=\"dataframe\">\n",
       "  <thead>\n",
       "    <tr style=\"text-align: right;\">\n",
       "      <th></th>\n",
       "      <th>activityID</th>\n",
       "      <th>startTime</th>\n",
       "      <th>linkedEvent</th>\n",
       "    </tr>\n",
       "  </thead>\n",
       "  <tbody>\n",
       "    <tr>\n",
       "      <th>0</th>\n",
       "      <td>2013-05-01T03:12:00-CME-001</td>\n",
       "      <td>2013-05-01T03:12Z</td>\n",
       "      <td>{'activityID': '2013-05-04T04:52:00-IPS-001'}</td>\n",
       "    </tr>\n",
       "    <tr>\n",
       "      <th>1</th>\n",
       "      <td>2013-05-03T22:36:00-CME-001</td>\n",
       "      <td>2013-05-03T22:36Z</td>\n",
       "      <td>{'activityID': '2013-05-07T04:37:00-IPS-001'}</td>\n",
       "    </tr>\n",
       "    <tr>\n",
       "      <th>2</th>\n",
       "      <td>2013-05-09T19:29:00-CME-001</td>\n",
       "      <td>2013-05-09T19:29Z</td>\n",
       "      <td>{'activityID': '2013-05-12T23:30:00-IPS-001'}</td>\n",
       "    </tr>\n",
       "    <tr>\n",
       "      <th>3</th>\n",
       "      <td>2013-05-13T02:54:00-CME-001</td>\n",
       "      <td>2013-05-13T02:54Z</td>\n",
       "      <td>{'activityID': '2013-05-13T01:53:00-FLR-001'}</td>\n",
       "    </tr>\n",
       "    <tr>\n",
       "      <th>4</th>\n",
       "      <td>2013-05-13T02:54:00-CME-001</td>\n",
       "      <td>2013-05-13T02:54Z</td>\n",
       "      <td>{'activityID': '2013-05-13T04:12:00-SEP-001'}</td>\n",
       "    </tr>\n",
       "    <tr>\n",
       "      <th>5</th>\n",
       "      <td>2013-05-13T16:18:00-CME-001</td>\n",
       "      <td>2013-05-13T16:18Z</td>\n",
       "      <td>{'activityID': '2013-05-13T15:40:00-FLR-001'}</td>\n",
       "    </tr>\n",
       "    <tr>\n",
       "      <th>6</th>\n",
       "      <td>2013-05-13T16:18:00-CME-001</td>\n",
       "      <td>2013-05-13T16:18Z</td>\n",
       "      <td>{'activityID': '2013-05-13T18:02:00-SEP-001'}</td>\n",
       "    </tr>\n",
       "    <tr>\n",
       "      <th>7</th>\n",
       "      <td>2013-05-14T01:30:00-CME-001</td>\n",
       "      <td>2013-05-14T01:30Z</td>\n",
       "      <td>{'activityID': '2013-05-14T01:00:00-FLR-001'}</td>\n",
       "    </tr>\n",
       "    <tr>\n",
       "      <th>8</th>\n",
       "      <td>2013-05-15T02:18:00-CME-001</td>\n",
       "      <td>2013-05-15T02:18Z</td>\n",
       "      <td>{'activityID': '2013-05-15T01:25:00-FLR-001'}</td>\n",
       "    </tr>\n",
       "    <tr>\n",
       "      <th>9</th>\n",
       "      <td>2013-05-15T02:18:00-CME-001</td>\n",
       "      <td>2013-05-15T02:18Z</td>\n",
       "      <td>{'activityID': '2013-05-15T13:25:00-SEP-001'}</td>\n",
       "    </tr>\n",
       "  </tbody>\n",
       "</table>\n",
       "</div>"
      ],
      "text/plain": [
       "                    activityID          startTime                                    linkedEvent\n",
       "0  2013-05-01T03:12:00-CME-001  2013-05-01T03:12Z  {'activityID': '2013-05-04T04:52:00-IPS-001'}\n",
       "1  2013-05-03T22:36:00-CME-001  2013-05-03T22:36Z  {'activityID': '2013-05-07T04:37:00-IPS-001'}\n",
       "2  2013-05-09T19:29:00-CME-001  2013-05-09T19:29Z  {'activityID': '2013-05-12T23:30:00-IPS-001'}\n",
       "3  2013-05-13T02:54:00-CME-001  2013-05-13T02:54Z  {'activityID': '2013-05-13T01:53:00-FLR-001'}\n",
       "4  2013-05-13T02:54:00-CME-001  2013-05-13T02:54Z  {'activityID': '2013-05-13T04:12:00-SEP-001'}\n",
       "5  2013-05-13T16:18:00-CME-001  2013-05-13T16:18Z  {'activityID': '2013-05-13T15:40:00-FLR-001'}\n",
       "6  2013-05-13T16:18:00-CME-001  2013-05-13T16:18Z  {'activityID': '2013-05-13T18:02:00-SEP-001'}\n",
       "7  2013-05-14T01:30:00-CME-001  2013-05-14T01:30Z  {'activityID': '2013-05-14T01:00:00-FLR-001'}\n",
       "8  2013-05-15T02:18:00-CME-001  2013-05-15T02:18Z  {'activityID': '2013-05-15T01:25:00-FLR-001'}\n",
       "9  2013-05-15T02:18:00-CME-001  2013-05-15T02:18Z  {'activityID': '2013-05-15T13:25:00-SEP-001'}"
      ]
     },
     "execution_count": 167,
     "metadata": {},
     "output_type": "execute_result"
    }
   ],
   "source": [
    "# Notice that the linkedEvents sometimes contains multiple events per row\n",
    "# Write a nested for loop that iterates first over each row in the cme DataFrame (using the index)\n",
    "# and then iterates over the values in 'linkedEvents' \n",
    "# and adds the elements individually to a list of dictionaries where each row is one element \n",
    "\n",
    "# Initialize an empty list to store the expanded rows\n",
    "expanded_rows = []\n",
    "\n",
    "# Iterate over each index in the DataFrame\n",
    "\n",
    "    # Iterate over each dictionary in the list\n",
    "    \n",
    "        # Append a new dictionary to the expanded_rows list for each dictionary item and corresponding 'activityID' and 'startTime' value\n",
    "for index, row in cme_df.iterrows():\n",
    "    # Check if 'linkedEvents' is a list\n",
    "    if isinstance(row['linkedEvents'], list):\n",
    "        # Iterate over each linked event in the list\n",
    "        for event in row['linkedEvents']:\n",
    "            # Create a new dictionary for the expanded row\n",
    "            expanded_row = {\n",
    "                'activityID': row['activityID'],\n",
    "                'startTime': row['startTime'],\n",
    "                'linkedEvent': event  # Add each linked event individually\n",
    "            }\n",
    "            expanded_rows.append(expanded_row)\n",
    "    else:\n",
    "        # If 'linkedEvents' is not a list, add the row as-is (optional)\n",
    "        expanded_row = {\n",
    "            'activityID': row['activityID'],\n",
    "            'startTime': row['startTime'],\n",
    "            'linkedEvent': row['linkedEvents']\n",
    "        }\n",
    "        expanded_rows.append(expanded_row)\n",
    "      \n",
    "# Create a new DataFrame from the expanded rows\n",
    "expanded_cme_df = pd.DataFrame(expanded_rows)\n",
    "expanded_cme_df.head(10)"
   ]
  },
  {
   "cell_type": "code",
   "execution_count": 168,
   "metadata": {},
   "outputs": [
    {
     "name": "stdout",
     "output_type": "stream",
     "text": [
      "Extracted activityID: 2013-05-04T04:52:00-IPS-001\n",
      "Error: Expected a dictionary but got <class 'list'>. Details: 'list' object has no attribute 'get'\n",
      "Result for invalid input: None\n"
     ]
    }
   ],
   "source": [
    "# Create a function called extract_activityID_from_dict that takes a dict as input such as in linkedEvents\n",
    "# and verify below that it works as expected using one row from linkedEvents as an example\n",
    "# Be sure to use a try and except block to handle errors\n",
    "\n",
    "        # Log the error or print it for debugging\n",
    "def extract_activityID_from_dict(event_dict):\n",
    "    \"\"\"\n",
    "    Extract the activityID from a dictionary representing a linked event.\n",
    "\n",
    "    Args:\n",
    "        event_dict (dict): A dictionary containing event details.\n",
    "\n",
    "    Returns:\n",
    "        str: The activityID if it exists, otherwise None.\n",
    "    \"\"\"\n",
    "    try:\n",
    "        # Attempt to extract the 'activityID'\n",
    "        activity_id = event_dict.get('activityID', None)\n",
    "        return activity_id\n",
    "    except AttributeError as e:\n",
    "        # Log or print error for debugging\n",
    "        print(f\"Error: Expected a dictionary but got {type(event_dict)}. Details: {e}\")\n",
    "        return None\n",
    "\n",
    "# Example usage\n",
    "example_event = {'activityID': '2013-05-04T04:52:00-IPS-001', 'eventType': 'IPS'}\n",
    "\n",
    "# Verify the function works as expected\n",
    "extracted_activity_id = extract_activityID_from_dict(example_event)\n",
    "print(\"Extracted activityID:\", extracted_activity_id)\n",
    "\n",
    "# Test with invalid input\n",
    "invalid_event = ['not', 'a', 'dict']\n",
    "extracted_invalid = extract_activityID_from_dict(invalid_event)\n",
    "print(\"Result for invalid input:\", extracted_invalid)\n",
    "\n",
    "\n"
   ]
  },
  {
   "cell_type": "code",
   "execution_count": 169,
   "metadata": {},
   "outputs": [
    {
     "data": {
      "text/html": [
       "<div>\n",
       "<style scoped>\n",
       "    .dataframe tbody tr th:only-of-type {\n",
       "        vertical-align: middle;\n",
       "    }\n",
       "\n",
       "    .dataframe tbody tr th {\n",
       "        vertical-align: top;\n",
       "    }\n",
       "\n",
       "    .dataframe thead th {\n",
       "        text-align: right;\n",
       "    }\n",
       "</style>\n",
       "<table border=\"1\" class=\"dataframe\">\n",
       "  <thead>\n",
       "    <tr style=\"text-align: right;\">\n",
       "      <th></th>\n",
       "      <th>activityID</th>\n",
       "      <th>startTime</th>\n",
       "      <th>linkedEvents</th>\n",
       "      <th>GST_ActivityID</th>\n",
       "    </tr>\n",
       "  </thead>\n",
       "  <tbody>\n",
       "    <tr>\n",
       "      <th>0</th>\n",
       "      <td>2013-05-01T03:12:00-CME-001</td>\n",
       "      <td>2013-05-01T03:12Z</td>\n",
       "      <td>[{'activityID': '2013-05-04T04:52:00-IPS-001'}]</td>\n",
       "      <td>2013-05-04T04:52:00-IPS-001</td>\n",
       "    </tr>\n",
       "    <tr>\n",
       "      <th>4</th>\n",
       "      <td>2013-05-03T22:36:00-CME-001</td>\n",
       "      <td>2013-05-03T22:36Z</td>\n",
       "      <td>[{'activityID': '2013-05-07T04:37:00-IPS-001'}]</td>\n",
       "      <td>2013-05-07T04:37:00-IPS-001</td>\n",
       "    </tr>\n",
       "    <tr>\n",
       "      <th>7</th>\n",
       "      <td>2013-05-09T19:29:00-CME-001</td>\n",
       "      <td>2013-05-09T19:29Z</td>\n",
       "      <td>[{'activityID': '2013-05-12T23:30:00-IPS-001'}]</td>\n",
       "      <td>2013-05-12T23:30:00-IPS-001</td>\n",
       "    </tr>\n",
       "    <tr>\n",
       "      <th>10</th>\n",
       "      <td>2013-05-13T02:54:00-CME-001</td>\n",
       "      <td>2013-05-13T02:54Z</td>\n",
       "      <td>[{'activityID': '2013-05-13T01:53:00-FLR-001'}...</td>\n",
       "      <td>2013-05-13T01:53:00-FLR-001</td>\n",
       "    </tr>\n",
       "    <tr>\n",
       "      <th>13</th>\n",
       "      <td>2013-05-13T16:18:00-CME-001</td>\n",
       "      <td>2013-05-13T16:18Z</td>\n",
       "      <td>[{'activityID': '2013-05-13T15:40:00-FLR-001'}...</td>\n",
       "      <td>2013-05-13T15:40:00-FLR-001</td>\n",
       "    </tr>\n",
       "  </tbody>\n",
       "</table>\n",
       "</div>"
      ],
      "text/plain": [
       "                     activityID          startTime                                       linkedEvents               GST_ActivityID\n",
       "0   2013-05-01T03:12:00-CME-001  2013-05-01T03:12Z    [{'activityID': '2013-05-04T04:52:00-IPS-001'}]  2013-05-04T04:52:00-IPS-001\n",
       "4   2013-05-03T22:36:00-CME-001  2013-05-03T22:36Z    [{'activityID': '2013-05-07T04:37:00-IPS-001'}]  2013-05-07T04:37:00-IPS-001\n",
       "7   2013-05-09T19:29:00-CME-001  2013-05-09T19:29Z    [{'activityID': '2013-05-12T23:30:00-IPS-001'}]  2013-05-12T23:30:00-IPS-001\n",
       "10  2013-05-13T02:54:00-CME-001  2013-05-13T02:54Z  [{'activityID': '2013-05-13T01:53:00-FLR-001'}...  2013-05-13T01:53:00-FLR-001\n",
       "13  2013-05-13T16:18:00-CME-001  2013-05-13T16:18Z  [{'activityID': '2013-05-13T15:40:00-FLR-001'}...  2013-05-13T15:40:00-FLR-001"
      ]
     },
     "execution_count": 169,
     "metadata": {},
     "output_type": "execute_result"
    }
   ],
   "source": [
    "# Apply this function to each row in the 'linkedEvents' column (you can use apply() and a lambda function)\n",
    "# and create a new column called 'GST_ActivityID' using loc indexer:\n",
    "cme_df.loc[:, 'GST_ActivityID'] = cme_df['linkedEvents'].apply(\n",
    "    lambda events: extract_activityID_from_dict(events[0]) if isinstance(events, list) and len(events) > 0 else None\n",
    ")\n",
    "\n",
    "cme_df.head()"
   ]
  },
  {
   "cell_type": "code",
   "execution_count": 170,
   "metadata": {},
   "outputs": [
    {
     "name": "stdout",
     "output_type": "stream",
     "text": [
      "<class 'pandas.core.frame.DataFrame'>\n",
      "Index: 1023 entries, 0 to 5523\n",
      "Data columns (total 4 columns):\n",
      " #   Column          Non-Null Count  Dtype \n",
      "---  ------          --------------  ----- \n",
      " 0   activityID      1023 non-null   object\n",
      " 1   startTime       1023 non-null   object\n",
      " 2   linkedEvents    1023 non-null   object\n",
      " 3   GST_ActivityID  1023 non-null   object\n",
      "dtypes: object(4)\n",
      "memory usage: 40.0+ KB\n"
     ]
    }
   ],
   "source": [
    "cme_df.info()"
   ]
  },
  {
   "cell_type": "code",
   "execution_count": 171,
   "metadata": {},
   "outputs": [
    {
     "data": {
      "text/html": [
       "<div>\n",
       "<style scoped>\n",
       "    .dataframe tbody tr th:only-of-type {\n",
       "        vertical-align: middle;\n",
       "    }\n",
       "\n",
       "    .dataframe tbody tr th {\n",
       "        vertical-align: top;\n",
       "    }\n",
       "\n",
       "    .dataframe thead th {\n",
       "        text-align: right;\n",
       "    }\n",
       "</style>\n",
       "<table border=\"1\" class=\"dataframe\">\n",
       "  <thead>\n",
       "    <tr style=\"text-align: right;\">\n",
       "      <th></th>\n",
       "      <th>activityID</th>\n",
       "      <th>startTime</th>\n",
       "      <th>linkedEvents</th>\n",
       "      <th>GST_ActivityID</th>\n",
       "    </tr>\n",
       "  </thead>\n",
       "  <tbody>\n",
       "    <tr>\n",
       "      <th>0</th>\n",
       "      <td>2013-05-01T03:12:00-CME-001</td>\n",
       "      <td>2013-05-01T03:12Z</td>\n",
       "      <td>[{'activityID': '2013-05-04T04:52:00-IPS-001'}]</td>\n",
       "      <td>2013-05-04T04:52:00-IPS-001</td>\n",
       "    </tr>\n",
       "    <tr>\n",
       "      <th>4</th>\n",
       "      <td>2013-05-03T22:36:00-CME-001</td>\n",
       "      <td>2013-05-03T22:36Z</td>\n",
       "      <td>[{'activityID': '2013-05-07T04:37:00-IPS-001'}]</td>\n",
       "      <td>2013-05-07T04:37:00-IPS-001</td>\n",
       "    </tr>\n",
       "    <tr>\n",
       "      <th>7</th>\n",
       "      <td>2013-05-09T19:29:00-CME-001</td>\n",
       "      <td>2013-05-09T19:29Z</td>\n",
       "      <td>[{'activityID': '2013-05-12T23:30:00-IPS-001'}]</td>\n",
       "      <td>2013-05-12T23:30:00-IPS-001</td>\n",
       "    </tr>\n",
       "    <tr>\n",
       "      <th>10</th>\n",
       "      <td>2013-05-13T02:54:00-CME-001</td>\n",
       "      <td>2013-05-13T02:54Z</td>\n",
       "      <td>[{'activityID': '2013-05-13T01:53:00-FLR-001'}...</td>\n",
       "      <td>2013-05-13T01:53:00-FLR-001</td>\n",
       "    </tr>\n",
       "    <tr>\n",
       "      <th>13</th>\n",
       "      <td>2013-05-13T16:18:00-CME-001</td>\n",
       "      <td>2013-05-13T16:18Z</td>\n",
       "      <td>[{'activityID': '2013-05-13T15:40:00-FLR-001'}...</td>\n",
       "      <td>2013-05-13T15:40:00-FLR-001</td>\n",
       "    </tr>\n",
       "    <tr>\n",
       "      <th>14</th>\n",
       "      <td>2013-05-14T01:30:00-CME-001</td>\n",
       "      <td>2013-05-14T01:30Z</td>\n",
       "      <td>[{'activityID': '2013-05-14T01:00:00-FLR-001'}]</td>\n",
       "      <td>2013-05-14T01:00:00-FLR-001</td>\n",
       "    </tr>\n",
       "    <tr>\n",
       "      <th>15</th>\n",
       "      <td>2013-05-15T02:18:00-CME-001</td>\n",
       "      <td>2013-05-15T02:18Z</td>\n",
       "      <td>[{'activityID': '2013-05-15T01:25:00-FLR-001'}...</td>\n",
       "      <td>2013-05-15T01:25:00-FLR-001</td>\n",
       "    </tr>\n",
       "    <tr>\n",
       "      <th>17</th>\n",
       "      <td>2013-05-17T09:24:00-CME-001</td>\n",
       "      <td>2013-05-17T09:24Z</td>\n",
       "      <td>[{'activityID': '2013-05-19T22:20:00-IPS-001'}]</td>\n",
       "      <td>2013-05-19T22:20:00-IPS-001</td>\n",
       "    </tr>\n",
       "    <tr>\n",
       "      <th>18</th>\n",
       "      <td>2013-05-18T03:24:00-CME-001</td>\n",
       "      <td>2013-05-18T03:24Z</td>\n",
       "      <td>[{'activityID': '2013-05-19T18:53:00-IPS-001'}]</td>\n",
       "      <td>2013-05-19T18:53:00-IPS-001</td>\n",
       "    </tr>\n",
       "    <tr>\n",
       "      <th>20</th>\n",
       "      <td>2013-05-22T09:12:00-CME-001</td>\n",
       "      <td>2013-05-22T09:12Z</td>\n",
       "      <td>[{'activityID': '2013-05-25T20:00:00-IPS-001'}]</td>\n",
       "      <td>2013-05-25T20:00:00-IPS-001</td>\n",
       "    </tr>\n",
       "  </tbody>\n",
       "</table>\n",
       "</div>"
      ],
      "text/plain": [
       "                     activityID          startTime                                       linkedEvents               GST_ActivityID\n",
       "0   2013-05-01T03:12:00-CME-001  2013-05-01T03:12Z    [{'activityID': '2013-05-04T04:52:00-IPS-001'}]  2013-05-04T04:52:00-IPS-001\n",
       "4   2013-05-03T22:36:00-CME-001  2013-05-03T22:36Z    [{'activityID': '2013-05-07T04:37:00-IPS-001'}]  2013-05-07T04:37:00-IPS-001\n",
       "7   2013-05-09T19:29:00-CME-001  2013-05-09T19:29Z    [{'activityID': '2013-05-12T23:30:00-IPS-001'}]  2013-05-12T23:30:00-IPS-001\n",
       "10  2013-05-13T02:54:00-CME-001  2013-05-13T02:54Z  [{'activityID': '2013-05-13T01:53:00-FLR-001'}...  2013-05-13T01:53:00-FLR-001\n",
       "13  2013-05-13T16:18:00-CME-001  2013-05-13T16:18Z  [{'activityID': '2013-05-13T15:40:00-FLR-001'}...  2013-05-13T15:40:00-FLR-001\n",
       "14  2013-05-14T01:30:00-CME-001  2013-05-14T01:30Z    [{'activityID': '2013-05-14T01:00:00-FLR-001'}]  2013-05-14T01:00:00-FLR-001\n",
       "15  2013-05-15T02:18:00-CME-001  2013-05-15T02:18Z  [{'activityID': '2013-05-15T01:25:00-FLR-001'}...  2013-05-15T01:25:00-FLR-001\n",
       "17  2013-05-17T09:24:00-CME-001  2013-05-17T09:24Z    [{'activityID': '2013-05-19T22:20:00-IPS-001'}]  2013-05-19T22:20:00-IPS-001\n",
       "18  2013-05-18T03:24:00-CME-001  2013-05-18T03:24Z    [{'activityID': '2013-05-19T18:53:00-IPS-001'}]  2013-05-19T18:53:00-IPS-001\n",
       "20  2013-05-22T09:12:00-CME-001  2013-05-22T09:12Z    [{'activityID': '2013-05-25T20:00:00-IPS-001'}]  2013-05-25T20:00:00-IPS-001"
      ]
     },
     "execution_count": 171,
     "metadata": {},
     "output_type": "execute_result"
    }
   ],
   "source": [
    "# Remove rows with missing GST_ActivityID, since we can't assign them to GSTs:\n",
    "#info above indicates no non-null columns in GST_ActivityID\n",
    "cme_df = cme_df.dropna(subset=['GST_ActivityID'])\n",
    "cme_df.head(10)"
   ]
  },
  {
   "cell_type": "code",
   "execution_count": 172,
   "metadata": {},
   "outputs": [
    {
     "name": "stdout",
     "output_type": "stream",
     "text": [
      "<class 'pandas.core.frame.DataFrame'>\n",
      "Index: 1023 entries, 0 to 5523\n",
      "Data columns (total 4 columns):\n",
      " #   Column          Non-Null Count  Dtype \n",
      "---  ------          --------------  ----- \n",
      " 0   activityID      1023 non-null   object\n",
      " 1   startTime       1023 non-null   object\n",
      " 2   linkedEvents    1023 non-null   object\n",
      " 3   GST_ActivityID  1023 non-null   object\n",
      "dtypes: object(4)\n",
      "memory usage: 40.0+ KB\n"
     ]
    }
   ],
   "source": [
    "#confirmed no rows dropped\n",
    "cme_df.info()"
   ]
  },
  {
   "cell_type": "code",
   "execution_count": 173,
   "metadata": {},
   "outputs": [
    {
     "name": "stdout",
     "output_type": "stream",
     "text": [
      "<class 'pandas.core.frame.DataFrame'>\n",
      "Index: 1023 entries, 0 to 5523\n",
      "Data columns (total 4 columns):\n",
      " #   Column          Non-Null Count  Dtype \n",
      "---  ------          --------------  ----- \n",
      " 0   activityID      1023 non-null   object\n",
      " 1   startTime       1023 non-null   object\n",
      " 2   linkedEvents    1023 non-null   object\n",
      " 3   GST_ActivityID  1023 non-null   object\n",
      "dtypes: object(4)\n",
      "memory usage: 40.0+ KB\n"
     ]
    }
   ],
   "source": [
    "# print out the datatype of each column in this DataFrame:\n",
    "cme_df.info()"
   ]
  },
  {
   "cell_type": "code",
   "execution_count": 174,
   "metadata": {},
   "outputs": [
    {
     "data": {
      "text/html": [
       "<div>\n",
       "<style scoped>\n",
       "    .dataframe tbody tr th:only-of-type {\n",
       "        vertical-align: middle;\n",
       "    }\n",
       "\n",
       "    .dataframe tbody tr th {\n",
       "        vertical-align: top;\n",
       "    }\n",
       "\n",
       "    .dataframe thead th {\n",
       "        text-align: right;\n",
       "    }\n",
       "</style>\n",
       "<table border=\"1\" class=\"dataframe\">\n",
       "  <thead>\n",
       "    <tr style=\"text-align: right;\">\n",
       "      <th></th>\n",
       "      <th>activityID</th>\n",
       "      <th>startTime</th>\n",
       "      <th>linkedEvents</th>\n",
       "      <th>GST_ActivityID</th>\n",
       "    </tr>\n",
       "  </thead>\n",
       "  <tbody>\n",
       "    <tr>\n",
       "      <th>0</th>\n",
       "      <td>2013-05-01T03:12:00-CME-001</td>\n",
       "      <td>2013-05-01 03:12:00+00:00</td>\n",
       "      <td>[{'activityID': '2013-05-04T04:52:00-IPS-001'}]</td>\n",
       "      <td>2013-05-04T04:52:00-IPS-001</td>\n",
       "    </tr>\n",
       "    <tr>\n",
       "      <th>4</th>\n",
       "      <td>2013-05-03T22:36:00-CME-001</td>\n",
       "      <td>2013-05-03 22:36:00+00:00</td>\n",
       "      <td>[{'activityID': '2013-05-07T04:37:00-IPS-001'}]</td>\n",
       "      <td>2013-05-07T04:37:00-IPS-001</td>\n",
       "    </tr>\n",
       "    <tr>\n",
       "      <th>7</th>\n",
       "      <td>2013-05-09T19:29:00-CME-001</td>\n",
       "      <td>2013-05-09 19:29:00+00:00</td>\n",
       "      <td>[{'activityID': '2013-05-12T23:30:00-IPS-001'}]</td>\n",
       "      <td>2013-05-12T23:30:00-IPS-001</td>\n",
       "    </tr>\n",
       "    <tr>\n",
       "      <th>10</th>\n",
       "      <td>2013-05-13T02:54:00-CME-001</td>\n",
       "      <td>2013-05-13 02:54:00+00:00</td>\n",
       "      <td>[{'activityID': '2013-05-13T01:53:00-FLR-001'}...</td>\n",
       "      <td>2013-05-13T01:53:00-FLR-001</td>\n",
       "    </tr>\n",
       "    <tr>\n",
       "      <th>13</th>\n",
       "      <td>2013-05-13T16:18:00-CME-001</td>\n",
       "      <td>2013-05-13 16:18:00+00:00</td>\n",
       "      <td>[{'activityID': '2013-05-13T15:40:00-FLR-001'}...</td>\n",
       "      <td>2013-05-13T15:40:00-FLR-001</td>\n",
       "    </tr>\n",
       "  </tbody>\n",
       "</table>\n",
       "</div>"
      ],
      "text/plain": [
       "                     activityID                 startTime                                       linkedEvents               GST_ActivityID\n",
       "0   2013-05-01T03:12:00-CME-001 2013-05-01 03:12:00+00:00    [{'activityID': '2013-05-04T04:52:00-IPS-001'}]  2013-05-04T04:52:00-IPS-001\n",
       "4   2013-05-03T22:36:00-CME-001 2013-05-03 22:36:00+00:00    [{'activityID': '2013-05-07T04:37:00-IPS-001'}]  2013-05-07T04:37:00-IPS-001\n",
       "7   2013-05-09T19:29:00-CME-001 2013-05-09 19:29:00+00:00    [{'activityID': '2013-05-12T23:30:00-IPS-001'}]  2013-05-12T23:30:00-IPS-001\n",
       "10  2013-05-13T02:54:00-CME-001 2013-05-13 02:54:00+00:00  [{'activityID': '2013-05-13T01:53:00-FLR-001'}...  2013-05-13T01:53:00-FLR-001\n",
       "13  2013-05-13T16:18:00-CME-001 2013-05-13 16:18:00+00:00  [{'activityID': '2013-05-13T15:40:00-FLR-001'}...  2013-05-13T15:40:00-FLR-001"
      ]
     },
     "execution_count": 174,
     "metadata": {},
     "output_type": "execute_result"
    }
   ],
   "source": [
    "cme_df['GST_ActivityID'] = cme_df['GST_ActivityID'].astype(str)\n",
    "cme_df['startTime'] = pd.to_datetime(cme_df['startTime'], errors='coerce')\n",
    "cme_df.head()"
   ]
  },
  {
   "cell_type": "code",
   "execution_count": 175,
   "metadata": {},
   "outputs": [
    {
     "data": {
      "text/html": [
       "<div>\n",
       "<style scoped>\n",
       "    .dataframe tbody tr th:only-of-type {\n",
       "        vertical-align: middle;\n",
       "    }\n",
       "\n",
       "    .dataframe tbody tr th {\n",
       "        vertical-align: top;\n",
       "    }\n",
       "\n",
       "    .dataframe thead th {\n",
       "        text-align: right;\n",
       "    }\n",
       "</style>\n",
       "<table border=\"1\" class=\"dataframe\">\n",
       "  <thead>\n",
       "    <tr style=\"text-align: right;\">\n",
       "      <th></th>\n",
       "      <th>cmeID</th>\n",
       "      <th>startTime_CME</th>\n",
       "      <th>GST_ActivityID</th>\n",
       "    </tr>\n",
       "  </thead>\n",
       "  <tbody>\n",
       "    <tr>\n",
       "      <th>0</th>\n",
       "      <td>2013-05-01T03:12:00-CME-001</td>\n",
       "      <td>2013-05-01 03:12:00+00:00</td>\n",
       "      <td>2013-05-04T04:52:00-IPS-001</td>\n",
       "    </tr>\n",
       "    <tr>\n",
       "      <th>4</th>\n",
       "      <td>2013-05-03T22:36:00-CME-001</td>\n",
       "      <td>2013-05-03 22:36:00+00:00</td>\n",
       "      <td>2013-05-07T04:37:00-IPS-001</td>\n",
       "    </tr>\n",
       "    <tr>\n",
       "      <th>7</th>\n",
       "      <td>2013-05-09T19:29:00-CME-001</td>\n",
       "      <td>2013-05-09 19:29:00+00:00</td>\n",
       "      <td>2013-05-12T23:30:00-IPS-001</td>\n",
       "    </tr>\n",
       "    <tr>\n",
       "      <th>10</th>\n",
       "      <td>2013-05-13T02:54:00-CME-001</td>\n",
       "      <td>2013-05-13 02:54:00+00:00</td>\n",
       "      <td>2013-05-13T01:53:00-FLR-001</td>\n",
       "    </tr>\n",
       "    <tr>\n",
       "      <th>13</th>\n",
       "      <td>2013-05-13T16:18:00-CME-001</td>\n",
       "      <td>2013-05-13 16:18:00+00:00</td>\n",
       "      <td>2013-05-13T15:40:00-FLR-001</td>\n",
       "    </tr>\n",
       "  </tbody>\n",
       "</table>\n",
       "</div>"
      ],
      "text/plain": [
       "                          cmeID             startTime_CME               GST_ActivityID\n",
       "0   2013-05-01T03:12:00-CME-001 2013-05-01 03:12:00+00:00  2013-05-04T04:52:00-IPS-001\n",
       "4   2013-05-03T22:36:00-CME-001 2013-05-03 22:36:00+00:00  2013-05-07T04:37:00-IPS-001\n",
       "7   2013-05-09T19:29:00-CME-001 2013-05-09 19:29:00+00:00  2013-05-12T23:30:00-IPS-001\n",
       "10  2013-05-13T02:54:00-CME-001 2013-05-13 02:54:00+00:00  2013-05-13T01:53:00-FLR-001\n",
       "13  2013-05-13T16:18:00-CME-001 2013-05-13 16:18:00+00:00  2013-05-13T15:40:00-FLR-001"
      ]
     },
     "execution_count": 175,
     "metadata": {},
     "output_type": "execute_result"
    }
   ],
   "source": [
    "# Convert the 'GST_ActivityID' column to string format\n",
    "# dtype above indicates GST_ActivityID is already an object\n",
    "\n",
    "# Convert the 'GST_ActivityID' column to string format\n",
    "cme_df['GST_ActivityID'] = cme_df['GST_ActivityID'].astype(str)\n",
    "\n",
    "# Convert startTime to datetime format  \n",
    "cme_df['startTime'] = pd.to_datetime(cme_df['startTime'], errors='coerce')\n",
    "\n",
    "# Rename startTime to startTime_CME and activityID to cmeID\n",
    "cme_df = cme_df.rename(columns={'startTime': 'startTime_CME', 'activityID': 'cmeID'})\n",
    "\n",
    "# Drop linkedEvents\n",
    "cme_df = cme_df.drop(columns=['linkedEvents'])\n",
    "\n",
    "# Verify that all steps were executed correctly\n",
    "cme_df.head(5)\n",
    "#if this code is run more than once then have to go back to create dataframe step to recover"
   ]
  },
  {
   "cell_type": "code",
   "execution_count": 176,
   "metadata": {},
   "outputs": [
    {
     "name": "stdout",
     "output_type": "stream",
     "text": [
      "<class 'pandas.core.frame.DataFrame'>\n",
      "Index: 1023 entries, 0 to 5523\n",
      "Data columns (total 3 columns):\n",
      " #   Column          Non-Null Count  Dtype              \n",
      "---  ------          --------------  -----              \n",
      " 0   cmeID           1023 non-null   object             \n",
      " 1   startTime_CME   1023 non-null   datetime64[ns, UTC]\n",
      " 2   GST_ActivityID  1023 non-null   object             \n",
      "dtypes: datetime64[ns, UTC](1), object(2)\n",
      "memory usage: 32.0+ KB\n"
     ]
    }
   ],
   "source": [
    "cme_df.info()"
   ]
  },
  {
   "cell_type": "code",
   "execution_count": 177,
   "metadata": {},
   "outputs": [
    {
     "data": {
      "text/html": [
       "<div>\n",
       "<style scoped>\n",
       "    .dataframe tbody tr th:only-of-type {\n",
       "        vertical-align: middle;\n",
       "    }\n",
       "\n",
       "    .dataframe tbody tr th {\n",
       "        vertical-align: top;\n",
       "    }\n",
       "\n",
       "    .dataframe thead th {\n",
       "        text-align: right;\n",
       "    }\n",
       "</style>\n",
       "<table border=\"1\" class=\"dataframe\">\n",
       "  <thead>\n",
       "    <tr style=\"text-align: right;\">\n",
       "      <th></th>\n",
       "      <th>cmeID</th>\n",
       "      <th>startTime_CME</th>\n",
       "      <th>GST_ActivityID</th>\n",
       "    </tr>\n",
       "  </thead>\n",
       "  <tbody>\n",
       "    <tr>\n",
       "      <th>26</th>\n",
       "      <td>2013-06-02T20:24:00-CME-001</td>\n",
       "      <td>2013-06-02 20:24:00+00:00</td>\n",
       "      <td>2013-06-07T03:00:00-GST-001</td>\n",
       "    </tr>\n",
       "    <tr>\n",
       "      <th>1358</th>\n",
       "      <td>2015-09-04T14:12:00-CME-001</td>\n",
       "      <td>2015-09-04 14:12:00+00:00</td>\n",
       "      <td>2015-09-09T03:00:00-GST-001</td>\n",
       "    </tr>\n",
       "    <tr>\n",
       "      <th>1359</th>\n",
       "      <td>2015-09-04T19:24:00-CME-001</td>\n",
       "      <td>2015-09-04 19:24:00+00:00</td>\n",
       "      <td>2015-09-09T03:00:00-GST-001</td>\n",
       "    </tr>\n",
       "    <tr>\n",
       "      <th>1361</th>\n",
       "      <td>2015-09-06T23:30:00-CME-001</td>\n",
       "      <td>2015-09-06 23:30:00+00:00</td>\n",
       "      <td>2015-09-11T06:00:00-GST-001</td>\n",
       "    </tr>\n",
       "    <tr>\n",
       "      <th>1362</th>\n",
       "      <td>2015-09-07T10:36:00-CME-001</td>\n",
       "      <td>2015-09-07 10:36:00+00:00</td>\n",
       "      <td>2015-09-11T06:00:00-GST-001</td>\n",
       "    </tr>\n",
       "    <tr>\n",
       "      <th>5365</th>\n",
       "      <td>2024-03-23T01:48:00-CME-001</td>\n",
       "      <td>2024-03-23 01:48:00+00:00</td>\n",
       "      <td>2024-03-24T12:00:00-GST-001</td>\n",
       "    </tr>\n",
       "  </tbody>\n",
       "</table>\n",
       "</div>"
      ],
      "text/plain": [
       "                            cmeID             startTime_CME               GST_ActivityID\n",
       "26    2013-06-02T20:24:00-CME-001 2013-06-02 20:24:00+00:00  2013-06-07T03:00:00-GST-001\n",
       "1358  2015-09-04T14:12:00-CME-001 2015-09-04 14:12:00+00:00  2015-09-09T03:00:00-GST-001\n",
       "1359  2015-09-04T19:24:00-CME-001 2015-09-04 19:24:00+00:00  2015-09-09T03:00:00-GST-001\n",
       "1361  2015-09-06T23:30:00-CME-001 2015-09-06 23:30:00+00:00  2015-09-11T06:00:00-GST-001\n",
       "1362  2015-09-07T10:36:00-CME-001 2015-09-07 10:36:00+00:00  2015-09-11T06:00:00-GST-001\n",
       "5365  2024-03-23T01:48:00-CME-001 2024-03-23 01:48:00+00:00  2024-03-24T12:00:00-GST-001"
      ]
     },
     "execution_count": 177,
     "metadata": {},
     "output_type": "execute_result"
    }
   ],
   "source": [
    "# We are only interested in CMEs related to GSTs so keep only rows where the GST_ActivityID column contains 'GST'\n",
    "# use the method 'contains()' from the str library.  \n",
    "cme_df = cme_df[cme_df['GST_ActivityID'].str.contains('GST', na=False)]\n",
    "cme_df.head(10)"
   ]
  },
  {
   "cell_type": "code",
   "execution_count": 178,
   "metadata": {},
   "outputs": [
    {
     "name": "stdout",
     "output_type": "stream",
     "text": [
      "<class 'pandas.core.frame.DataFrame'>\n",
      "Index: 6 entries, 26 to 5365\n",
      "Data columns (total 3 columns):\n",
      " #   Column          Non-Null Count  Dtype              \n",
      "---  ------          --------------  -----              \n",
      " 0   cmeID           6 non-null      object             \n",
      " 1   startTime_CME   6 non-null      datetime64[ns, UTC]\n",
      " 2   GST_ActivityID  6 non-null      object             \n",
      "dtypes: datetime64[ns, UTC](1), object(2)\n",
      "memory usage: 192.0+ bytes\n"
     ]
    }
   ],
   "source": [
    "cme_df.info()"
   ]
  },
  {
   "cell_type": "markdown",
   "metadata": {},
   "source": [
    "### GST Data"
   ]
  },
  {
   "cell_type": "code",
   "execution_count": 179,
   "metadata": {},
   "outputs": [
    {
     "name": "stdout",
     "output_type": "stream",
     "text": [
      "GST URL: https://api.nasa.gov/DONKI/GST?startDate=2013-05-01&endDate=2024-05-01&api_key=eBGsZaargHGGIgrOyuvIfS79QdeZ1f48ptPDSMu3\n"
     ]
    }
   ],
   "source": [
    "# Set the base URL to NASA's DONKI API:\n",
    "base_url = \"https://api.nasa.gov/DONKI/\"\n",
    "\n",
    "# Set the specifier for Geomagnetic Storms (GST):\n",
    "GST = \"GST\"\n",
    "\n",
    "# Search for GSTs between a begin and end date\n",
    "startDate = \"2013-05-01\"\n",
    "endDate   = \"2024-05-01\"\n",
    "\n",
    "# Build URL for GST\n",
    "gst_url = f\"{base_url}{GST}?startDate={startDate}&endDate={endDate}&api_key={NASA_API_KEY}\"\n",
    "\n",
    "# Print the built URL to verify\n",
    "print(\"GST URL:\", gst_url)"
   ]
  },
  {
   "cell_type": "code",
   "execution_count": 180,
   "metadata": {},
   "outputs": [
    {
     "name": "stdout",
     "output_type": "stream",
     "text": [
      "Request successful!\n"
     ]
    }
   ],
   "source": [
    "# Make a \"GET\" request for the GST URL and store it in a variable named gst_response\n",
    "gst_response = requests.get(gst_url)\n",
    "\n",
    "# Check the response status code\n",
    "if gst_response.status_code == 200:\n",
    "    print(\"Request successful!\")\n",
    "else:\n",
    "    print(f\"Request failed with status code: {gst_response.status_code}\")"
   ]
  },
  {
   "cell_type": "code",
   "execution_count": 185,
   "metadata": {},
   "outputs": [
    {
     "name": "stdout",
     "output_type": "stream",
     "text": [
      "GST JSON data successfully parsed!\n",
      "First Result in JSON format:\n",
      "{\n",
      "    \"gstID\": \"2013-06-01T01:00:00-GST-001\",\n",
      "    \"startTime\": \"2013-06-01T01:00Z\",\n",
      "    \"allKpIndex\": [\n",
      "        {\n",
      "            \"observedTime\": \"2013-06-01T01:00Z\",\n",
      "            \"kpIndex\": 6.0,\n",
      "            \"source\": \"NOAA\"\n",
      "        }\n",
      "    ],\n",
      "    \"link\": \"https://webtools.ccmc.gsfc.nasa.gov/DONKI/view/GST/326/-1\",\n",
      "    \"linkedEvents\": [\n",
      "        {\n",
      "            \"activityID\": \"2013-05-31T15:45:00-HSS-001\"\n",
      "        }\n",
      "    ],\n",
      "    \"submissionTime\": \"2013-07-15T19:26Z\",\n",
      "    \"versionId\": 1\n",
      "}\n"
     ]
    }
   ],
   "source": [
    "# Convert the response variable to json and store it as a variable named gst_json\n",
    "try:\n",
    "    gst_json = gst_response.json()\n",
    "    print(\"GST JSON data successfully parsed!\")\n",
    "except json.JSONDecodeError:\n",
    "    print(\"Failed to parse JSON from the response.\")\n",
    "    \n",
    "# Preview the first result in JSON format\n",
    "# Use json.dumps with argument indent=4 to format data\n",
    "if isinstance(gst_json, list) and len(gst_json) > 0:\n",
    "    first_result = gst_json[0]  # Get the first item in the list\n",
    "    gst_formatted_result = json.dumps(first_result, indent=4)  # Format with indentation\n",
    "    print(\"First Result in JSON format:\")\n",
    "    print(gst_formatted_result)\n",
    "else:\n",
    "    print(\"No results found or data is not in the expected format.\")"
   ]
  },
  {
   "cell_type": "code",
   "execution_count": 155,
   "metadata": {},
   "outputs": [],
   "source": [
    "pd.set_option('display.width', 1000)  # Set the display width to a large value\n",
    "pd.set_option('display.max_columns', None)  # Show all columns without truncation\n",
    "pd.set_option('display.max_rows', None)  # Optional: Show all rows without truncation"
   ]
  },
  {
   "cell_type": "code",
   "execution_count": 190,
   "metadata": {},
   "outputs": [
    {
     "name": "stdout",
     "output_type": "stream",
     "text": [
      "GST data successfully converted to a DataFrame!\n",
      "                         gstID          startTime                                         allKpIndex                                               link                                       linkedEvents     submissionTime  versionId\n",
      "0  2013-06-01T01:00:00-GST-001  2013-06-01T01:00Z  [{'observedTime': '2013-06-01T01:00Z', 'kpInde...  https://webtools.ccmc.gsfc.nasa.gov/DONKI/view...    [{'activityID': '2013-05-31T15:45:00-HSS-001'}]  2013-07-15T19:26Z          1\n",
      "1  2013-06-07T03:00:00-GST-001  2013-06-07T03:00Z  [{'observedTime': '2013-06-07T03:00Z', 'kpInde...  https://webtools.ccmc.gsfc.nasa.gov/DONKI/view...    [{'activityID': '2013-06-02T20:24:00-CME-001'}]  2013-07-15T19:41Z          1\n",
      "2  2013-06-29T03:00:00-GST-001  2013-06-29T03:00Z  [{'observedTime': '2013-06-29T03:00Z', 'kpInde...  https://webtools.ccmc.gsfc.nasa.gov/DONKI/view...                                               None  2013-09-25T04:48Z          2\n",
      "3  2013-10-02T03:00:00-GST-001  2013-10-02T03:00Z  [{'observedTime': '2013-10-02T06:00Z', 'kpInde...  https://webtools.ccmc.gsfc.nasa.gov/DONKI/view...  [{'activityID': '2013-09-29T22:40:00-CME-001'}...  2013-10-02T13:23Z          1\n",
      "4  2013-12-08T00:00:00-GST-001  2013-12-08T00:00Z  [{'observedTime': '2013-12-08T03:00Z', 'kpInde...  https://webtools.ccmc.gsfc.nasa.gov/DONKI/view...  [{'activityID': '2013-12-04T23:12:00-CME-001'}...  2013-12-08T03:42Z          1\n",
      "The following columns are missing in the DataFrame: {'activityID'}\n"
     ]
    }
   ],
   "source": [
    "# Convert gst_json to a Pandas DataFrame  \n",
    "if isinstance(gst_json, list):  # Ensure the data is a list\n",
    "    gst_df = pd.DataFrame(gst_json)\n",
    "    print(\"GST data successfully converted to a DataFrame!\")\n",
    "    print(gst_df.head())  # Preview the first few rows of the DataFrame\n",
    "else:\n",
    "    print(\"The JSON data is not in the expected format (list). Conversion to DataFrame failed.\")\n",
    "\n",
    "# Keep only the columns: activityID, startTime, linkedEvents\n",
    "gst_columns_to_keep = [\"activityID\", \"startTime\", \"linkedEvents\"]\n",
    "\n",
    "if set(gst_columns_to_keep).issubset(gst_df.columns):  # Check if all columns exist in the DataFrame\n",
    "    gst_df = gst_df[gst_columns_to_keep]\n",
    "    print(\"DataFrame filtered to keep only the specified columns:\")\n",
    "    print(gst_df.head(10))    # Preview the filtered DataFrame\n",
    "else:\n",
    "    gst_missing_columns = set(gst_columns_to_keep) - set(gst_df.columns)\n",
    "    print(f\"The following columns are missing in the DataFrame: {gst_missing_columns}\")"
   ]
  },
  {
   "cell_type": "markdown",
   "metadata": {},
   "source": [
    "#'activityID' likely meant to be 'gstID'.  Will modify code to deviate from markdown provided as challenge instructions."
   ]
  },
  {
   "cell_type": "code",
   "execution_count": 191,
   "metadata": {},
   "outputs": [
    {
     "name": "stdout",
     "output_type": "stream",
     "text": [
      "Index(['gstID', 'startTime', 'allKpIndex', 'link', 'linkedEvents', 'submissionTime', 'versionId'], dtype='object')\n"
     ]
    }
   ],
   "source": [
    "print(gst_df.columns)"
   ]
  },
  {
   "cell_type": "code",
   "execution_count": 203,
   "metadata": {},
   "outputs": [
    {
     "name": "stdout",
     "output_type": "stream",
     "text": [
      "GST data successfully converted to a DataFrame!\n",
      "                         gstID          startTime                                         allKpIndex                                               link                                       linkedEvents     submissionTime  versionId\n",
      "0  2013-06-01T01:00:00-GST-001  2013-06-01T01:00Z  [{'observedTime': '2013-06-01T01:00Z', 'kpInde...  https://webtools.ccmc.gsfc.nasa.gov/DONKI/view...    [{'activityID': '2013-05-31T15:45:00-HSS-001'}]  2013-07-15T19:26Z          1\n",
      "1  2013-06-07T03:00:00-GST-001  2013-06-07T03:00Z  [{'observedTime': '2013-06-07T03:00Z', 'kpInde...  https://webtools.ccmc.gsfc.nasa.gov/DONKI/view...    [{'activityID': '2013-06-02T20:24:00-CME-001'}]  2013-07-15T19:41Z          1\n",
      "2  2013-06-29T03:00:00-GST-001  2013-06-29T03:00Z  [{'observedTime': '2013-06-29T03:00Z', 'kpInde...  https://webtools.ccmc.gsfc.nasa.gov/DONKI/view...                                               None  2013-09-25T04:48Z          2\n",
      "3  2013-10-02T03:00:00-GST-001  2013-10-02T03:00Z  [{'observedTime': '2013-10-02T06:00Z', 'kpInde...  https://webtools.ccmc.gsfc.nasa.gov/DONKI/view...  [{'activityID': '2013-09-29T22:40:00-CME-001'}...  2013-10-02T13:23Z          1\n",
      "4  2013-12-08T00:00:00-GST-001  2013-12-08T00:00Z  [{'observedTime': '2013-12-08T03:00Z', 'kpInde...  https://webtools.ccmc.gsfc.nasa.gov/DONKI/view...  [{'activityID': '2013-12-04T23:12:00-CME-001'}...  2013-12-08T03:42Z          1\n",
      "DataFrame filtered to keep only the specified columns:\n",
      "                         gstID          startTime                                       linkedEvents\n",
      "0  2013-06-01T01:00:00-GST-001  2013-06-01T01:00Z    [{'activityID': '2013-05-31T15:45:00-HSS-001'}]\n",
      "1  2013-06-07T03:00:00-GST-001  2013-06-07T03:00Z    [{'activityID': '2013-06-02T20:24:00-CME-001'}]\n",
      "2  2013-06-29T03:00:00-GST-001  2013-06-29T03:00Z                                               None\n",
      "3  2013-10-02T03:00:00-GST-001  2013-10-02T03:00Z  [{'activityID': '2013-09-29T22:40:00-CME-001'}...\n",
      "4  2013-12-08T00:00:00-GST-001  2013-12-08T00:00Z  [{'activityID': '2013-12-04T23:12:00-CME-001'}...\n",
      "5  2014-02-19T03:00:00-GST-001  2014-02-19T03:00Z  [{'activityID': '2014-02-16T14:15:00-CME-001'}...\n",
      "6  2014-02-20T03:00:00-GST-001  2014-02-20T03:00Z  [{'activityID': '2014-02-18T01:25:00-CME-001'}...\n",
      "7  2014-02-27T18:00:00-GST-001  2014-02-27T18:00Z  [{'activityID': '2014-02-25T01:25:00-CME-001'}...\n",
      "8  2014-06-08T03:00:00-GST-001  2014-06-08T03:00Z  [{'activityID': '2014-06-04T13:25:00-CME-001'}...\n",
      "9  2014-08-19T21:00:00-GST-001  2014-08-19T21:00Z  [{'activityID': '2014-08-15T21:12:00-CME-001'}...\n"
     ]
    }
   ],
   "source": [
    "# Convert gst_json to a Pandas DataFrame  \n",
    "if isinstance(gst_json, list):  # Ensure the data is a list\n",
    "    gst_df = pd.DataFrame(gst_json)\n",
    "    print(\"GST data successfully converted to a DataFrame!\")\n",
    "    print(gst_df.head())  # Preview the first few rows of the DataFrame\n",
    "else:\n",
    "    print(\"The JSON data is not in the expected format (list). Conversion to DataFrame failed.\")\n",
    "\n",
    "# Keep only the columns: gstID, startTime, linkedEvents\n",
    "gst_columns_to_keep = [\"gstID\", \"startTime\", \"linkedEvents\"]\n",
    "\n",
    "if set(gst_columns_to_keep).issubset(gst_df.columns):  # Check if all columns exist in the DataFrame\n",
    "    gst_df = gst_df[gst_columns_to_keep]\n",
    "    print(\"DataFrame filtered to keep only the specified columns:\")\n",
    "    print(gst_df.head(10))    # Preview the filtered DataFrame\n",
    "else:\n",
    "    gst_missing_columns = set(gst_columns_to_keep) - set(gst_df.columns)\n",
    "    print(f\"The following columns are missing in the DataFrame: {gst_missing_columns}\")"
   ]
  },
  {
   "cell_type": "code",
   "execution_count": 204,
   "metadata": {},
   "outputs": [
    {
     "name": "stdout",
     "output_type": "stream",
     "text": [
      "<class 'pandas.core.frame.DataFrame'>\n",
      "RangeIndex: 117 entries, 0 to 116\n",
      "Data columns (total 3 columns):\n",
      " #   Column        Non-Null Count  Dtype \n",
      "---  ------        --------------  ----- \n",
      " 0   gstID         117 non-null    object\n",
      " 1   startTime     117 non-null    object\n",
      " 2   linkedEvents  105 non-null    object\n",
      "dtypes: object(3)\n",
      "memory usage: 2.9+ KB\n"
     ]
    }
   ],
   "source": [
    "gst_df.info()"
   ]
  },
  {
   "cell_type": "code",
   "execution_count": 205,
   "metadata": {},
   "outputs": [
    {
     "data": {
      "text/html": [
       "<div>\n",
       "<style scoped>\n",
       "    .dataframe tbody tr th:only-of-type {\n",
       "        vertical-align: middle;\n",
       "    }\n",
       "\n",
       "    .dataframe tbody tr th {\n",
       "        vertical-align: top;\n",
       "    }\n",
       "\n",
       "    .dataframe thead th {\n",
       "        text-align: right;\n",
       "    }\n",
       "</style>\n",
       "<table border=\"1\" class=\"dataframe\">\n",
       "  <thead>\n",
       "    <tr style=\"text-align: right;\">\n",
       "      <th></th>\n",
       "      <th>gstID</th>\n",
       "      <th>startTime</th>\n",
       "      <th>linkedEvents</th>\n",
       "    </tr>\n",
       "  </thead>\n",
       "  <tbody>\n",
       "    <tr>\n",
       "      <th>0</th>\n",
       "      <td>2013-06-01T01:00:00-GST-001</td>\n",
       "      <td>2013-06-01T01:00Z</td>\n",
       "      <td>[{'activityID': '2013-05-31T15:45:00-HSS-001'}]</td>\n",
       "    </tr>\n",
       "    <tr>\n",
       "      <th>1</th>\n",
       "      <td>2013-06-07T03:00:00-GST-001</td>\n",
       "      <td>2013-06-07T03:00Z</td>\n",
       "      <td>[{'activityID': '2013-06-02T20:24:00-CME-001'}]</td>\n",
       "    </tr>\n",
       "    <tr>\n",
       "      <th>3</th>\n",
       "      <td>2013-10-02T03:00:00-GST-001</td>\n",
       "      <td>2013-10-02T03:00Z</td>\n",
       "      <td>[{'activityID': '2013-09-29T22:40:00-CME-001'}...</td>\n",
       "    </tr>\n",
       "    <tr>\n",
       "      <th>4</th>\n",
       "      <td>2013-12-08T00:00:00-GST-001</td>\n",
       "      <td>2013-12-08T00:00Z</td>\n",
       "      <td>[{'activityID': '2013-12-04T23:12:00-CME-001'}...</td>\n",
       "    </tr>\n",
       "    <tr>\n",
       "      <th>5</th>\n",
       "      <td>2014-02-19T03:00:00-GST-001</td>\n",
       "      <td>2014-02-19T03:00Z</td>\n",
       "      <td>[{'activityID': '2014-02-16T14:15:00-CME-001'}...</td>\n",
       "    </tr>\n",
       "  </tbody>\n",
       "</table>\n",
       "</div>"
      ],
      "text/plain": [
       "                         gstID          startTime                                       linkedEvents\n",
       "0  2013-06-01T01:00:00-GST-001  2013-06-01T01:00Z    [{'activityID': '2013-05-31T15:45:00-HSS-001'}]\n",
       "1  2013-06-07T03:00:00-GST-001  2013-06-07T03:00Z    [{'activityID': '2013-06-02T20:24:00-CME-001'}]\n",
       "3  2013-10-02T03:00:00-GST-001  2013-10-02T03:00Z  [{'activityID': '2013-09-29T22:40:00-CME-001'}...\n",
       "4  2013-12-08T00:00:00-GST-001  2013-12-08T00:00Z  [{'activityID': '2013-12-04T23:12:00-CME-001'}...\n",
       "5  2014-02-19T03:00:00-GST-001  2014-02-19T03:00Z  [{'activityID': '2014-02-16T14:15:00-CME-001'}..."
      ]
     },
     "execution_count": 205,
     "metadata": {},
     "output_type": "execute_result"
    }
   ],
   "source": [
    "# Notice that the linkedEvents column allows us to identify the corresponding CME\n",
    "# Remove rows with missing 'linkedEvents' since we won't be able to assign these to CME\n",
    "gst_df = gst_df.dropna(subset=['linkedEvents'])\n",
    "gst_df.head()"
   ]
  },
  {
   "cell_type": "code",
   "execution_count": 206,
   "metadata": {},
   "outputs": [
    {
     "name": "stdout",
     "output_type": "stream",
     "text": [
      "DataFrame after exploding 'linkedEvents':\n",
      "                         gstID          startTime                                   linkedEvents\n",
      "0  2013-06-01T01:00:00-GST-001  2013-06-01T01:00Z  {'activityID': '2013-05-31T15:45:00-HSS-001'}\n",
      "1  2013-06-07T03:00:00-GST-001  2013-06-07T03:00Z  {'activityID': '2013-06-02T20:24:00-CME-001'}\n",
      "2  2013-10-02T03:00:00-GST-001  2013-10-02T03:00Z  {'activityID': '2013-09-29T22:40:00-CME-001'}\n",
      "3  2013-10-02T03:00:00-GST-001  2013-10-02T03:00Z  {'activityID': '2013-10-02T01:54:00-IPS-001'}\n",
      "4  2013-10-02T03:00:00-GST-001  2013-10-02T03:00Z  {'activityID': '2013-10-02T02:47:00-MPC-001'}\n"
     ]
    }
   ],
   "source": [
    "# Notice that the linkedEvents sometimes contains multiple events per row\n",
    "# Use the explode method to ensure that each row is one element. Ensure to reset the index and drop missing values.\n",
    "\n",
    "# Use explode to split multiple events into separate rows\n",
    "gst_df = gst_df.explode('linkedEvents').reset_index(drop=True)\n",
    "\n",
    "# Drop rows where 'linkedEvents' is still missing after exploding\n",
    "gst_df = gst_df.dropna(subset=['linkedEvents'])\n",
    "\n",
    "print(\"DataFrame after exploding 'linkedEvents':\")\n",
    "print(gst_df.head())\n"
   ]
  },
  {
   "cell_type": "code",
   "execution_count": 207,
   "metadata": {},
   "outputs": [
    {
     "name": "stdout",
     "output_type": "stream",
     "text": [
      "<class 'pandas.core.frame.DataFrame'>\n",
      "RangeIndex: 205 entries, 0 to 204\n",
      "Data columns (total 3 columns):\n",
      " #   Column        Non-Null Count  Dtype \n",
      "---  ------        --------------  ----- \n",
      " 0   gstID         205 non-null    object\n",
      " 1   startTime     205 non-null    object\n",
      " 2   linkedEvents  205 non-null    object\n",
      "dtypes: object(3)\n",
      "memory usage: 4.9+ KB\n"
     ]
    }
   ],
   "source": [
    "gst_df.info()"
   ]
  },
  {
   "cell_type": "code",
   "execution_count": 208,
   "metadata": {},
   "outputs": [
    {
     "data": {
      "text/html": [
       "<div>\n",
       "<style scoped>\n",
       "    .dataframe tbody tr th:only-of-type {\n",
       "        vertical-align: middle;\n",
       "    }\n",
       "\n",
       "    .dataframe tbody tr th {\n",
       "        vertical-align: top;\n",
       "    }\n",
       "\n",
       "    .dataframe thead th {\n",
       "        text-align: right;\n",
       "    }\n",
       "</style>\n",
       "<table border=\"1\" class=\"dataframe\">\n",
       "  <thead>\n",
       "    <tr style=\"text-align: right;\">\n",
       "      <th></th>\n",
       "      <th>gstID</th>\n",
       "      <th>startTime</th>\n",
       "      <th>linkedEvents</th>\n",
       "      <th>CME_ActivityID</th>\n",
       "    </tr>\n",
       "  </thead>\n",
       "  <tbody>\n",
       "    <tr>\n",
       "      <th>0</th>\n",
       "      <td>2013-06-01T01:00:00-GST-001</td>\n",
       "      <td>2013-06-01T01:00Z</td>\n",
       "      <td>{'activityID': '2013-05-31T15:45:00-HSS-001'}</td>\n",
       "      <td>2013-05-31T15:45:00-HSS-001</td>\n",
       "    </tr>\n",
       "    <tr>\n",
       "      <th>1</th>\n",
       "      <td>2013-06-07T03:00:00-GST-001</td>\n",
       "      <td>2013-06-07T03:00Z</td>\n",
       "      <td>{'activityID': '2013-06-02T20:24:00-CME-001'}</td>\n",
       "      <td>2013-06-02T20:24:00-CME-001</td>\n",
       "    </tr>\n",
       "    <tr>\n",
       "      <th>2</th>\n",
       "      <td>2013-10-02T03:00:00-GST-001</td>\n",
       "      <td>2013-10-02T03:00Z</td>\n",
       "      <td>{'activityID': '2013-09-29T22:40:00-CME-001'}</td>\n",
       "      <td>2013-09-29T22:40:00-CME-001</td>\n",
       "    </tr>\n",
       "    <tr>\n",
       "      <th>3</th>\n",
       "      <td>2013-10-02T03:00:00-GST-001</td>\n",
       "      <td>2013-10-02T03:00Z</td>\n",
       "      <td>{'activityID': '2013-10-02T01:54:00-IPS-001'}</td>\n",
       "      <td>2013-10-02T01:54:00-IPS-001</td>\n",
       "    </tr>\n",
       "    <tr>\n",
       "      <th>4</th>\n",
       "      <td>2013-10-02T03:00:00-GST-001</td>\n",
       "      <td>2013-10-02T03:00Z</td>\n",
       "      <td>{'activityID': '2013-10-02T02:47:00-MPC-001'}</td>\n",
       "      <td>2013-10-02T02:47:00-MPC-001</td>\n",
       "    </tr>\n",
       "  </tbody>\n",
       "</table>\n",
       "</div>"
      ],
      "text/plain": [
       "                         gstID          startTime                                   linkedEvents               CME_ActivityID\n",
       "0  2013-06-01T01:00:00-GST-001  2013-06-01T01:00Z  {'activityID': '2013-05-31T15:45:00-HSS-001'}  2013-05-31T15:45:00-HSS-001\n",
       "1  2013-06-07T03:00:00-GST-001  2013-06-07T03:00Z  {'activityID': '2013-06-02T20:24:00-CME-001'}  2013-06-02T20:24:00-CME-001\n",
       "2  2013-10-02T03:00:00-GST-001  2013-10-02T03:00Z  {'activityID': '2013-09-29T22:40:00-CME-001'}  2013-09-29T22:40:00-CME-001\n",
       "3  2013-10-02T03:00:00-GST-001  2013-10-02T03:00Z  {'activityID': '2013-10-02T01:54:00-IPS-001'}  2013-10-02T01:54:00-IPS-001\n",
       "4  2013-10-02T03:00:00-GST-001  2013-10-02T03:00Z  {'activityID': '2013-10-02T02:47:00-MPC-001'}  2013-10-02T02:47:00-MPC-001"
      ]
     },
     "execution_count": 208,
     "metadata": {},
     "output_type": "execute_result"
    }
   ],
   "source": [
    "# Apply the extract_activityID_from_dict function to each row in the 'linkedEvents' column (you can use apply() and a lambda function)\n",
    "# and create a new column called 'CME_ActivityID' using loc indexer:\n",
    "gst_df['CME_ActivityID'] = gst_df['linkedEvents'].apply(\n",
    "    lambda x: extract_activityID_from_dict(x) if isinstance(x, dict) else None\n",
    ")\n",
    "\n",
    "# Remove rows with missing CME_ActivityID, since we can't assign them to CMEs:\n",
    "gst_df = gst_df.dropna(subset=['CME_ActivityID'])\n",
    "\n",
    "gst_df.head()\n"
   ]
  },
  {
   "cell_type": "code",
   "execution_count": 209,
   "metadata": {},
   "outputs": [
    {
     "name": "stdout",
     "output_type": "stream",
     "text": [
      "<class 'pandas.core.frame.DataFrame'>\n",
      "RangeIndex: 205 entries, 0 to 204\n",
      "Data columns (total 4 columns):\n",
      " #   Column          Non-Null Count  Dtype \n",
      "---  ------          --------------  ----- \n",
      " 0   gstID           205 non-null    object\n",
      " 1   startTime       205 non-null    object\n",
      " 2   linkedEvents    205 non-null    object\n",
      " 3   CME_ActivityID  205 non-null    object\n",
      "dtypes: object(4)\n",
      "memory usage: 6.5+ KB\n"
     ]
    }
   ],
   "source": [
    "gst_df.info()"
   ]
  },
  {
   "cell_type": "code",
   "execution_count": 210,
   "metadata": {},
   "outputs": [
    {
     "name": "stdout",
     "output_type": "stream",
     "text": [
      "<class 'pandas.core.frame.DataFrame'>\n",
      "RangeIndex: 205 entries, 0 to 204\n",
      "Data columns (total 3 columns):\n",
      " #   Column          Non-Null Count  Dtype              \n",
      "---  ------          --------------  -----              \n",
      " 0   gstID           205 non-null    object             \n",
      " 1   startTime_GST   205 non-null    datetime64[ns, UTC]\n",
      " 2   CME_ActivityID  205 non-null    object             \n",
      "dtypes: datetime64[ns, UTC](1), object(2)\n",
      "memory usage: 4.9+ KB\n"
     ]
    }
   ],
   "source": [
    "# df info above indicates that CME_ActivityID and gstID are already objects, but will code conversion again.\n",
    "# Convert the 'CME_ActivityID' column to string format \n",
    "gst_df['CME_ActivityID'] = gst_df['CME_ActivityID'].astype(str)\n",
    "\n",
    "# Convert the 'gstID' column to string format \n",
    "gst_df['gstID'] = gst_df['gstID'].astype(str)\n",
    "\n",
    "# Convert startTime to datetime format  \n",
    "gst_df['startTime'] = pd.to_datetime(gst_df['startTime'], errors='coerce')\n",
    "\n",
    "# Rename startTime to startTime_GST \n",
    "gst_df = gst_df.rename(columns={'startTime': 'startTime_GST'})\n",
    "\n",
    "# Drop linkedEvents\n",
    "gst_df = gst_df.drop(columns=['linkedEvents'])\n",
    "\n",
    "# Verify that all steps were executed correctly\n",
    "gst_df.info()"
   ]
  },
  {
   "cell_type": "code",
   "execution_count": 211,
   "metadata": {},
   "outputs": [
    {
     "data": {
      "text/html": [
       "<div>\n",
       "<style scoped>\n",
       "    .dataframe tbody tr th:only-of-type {\n",
       "        vertical-align: middle;\n",
       "    }\n",
       "\n",
       "    .dataframe tbody tr th {\n",
       "        vertical-align: top;\n",
       "    }\n",
       "\n",
       "    .dataframe thead th {\n",
       "        text-align: right;\n",
       "    }\n",
       "</style>\n",
       "<table border=\"1\" class=\"dataframe\">\n",
       "  <thead>\n",
       "    <tr style=\"text-align: right;\">\n",
       "      <th></th>\n",
       "      <th>gstID</th>\n",
       "      <th>startTime_GST</th>\n",
       "      <th>CME_ActivityID</th>\n",
       "    </tr>\n",
       "  </thead>\n",
       "  <tbody>\n",
       "    <tr>\n",
       "      <th>1</th>\n",
       "      <td>2013-06-07T03:00:00-GST-001</td>\n",
       "      <td>2013-06-07 03:00:00+00:00</td>\n",
       "      <td>2013-06-02T20:24:00-CME-001</td>\n",
       "    </tr>\n",
       "    <tr>\n",
       "      <th>2</th>\n",
       "      <td>2013-10-02T03:00:00-GST-001</td>\n",
       "      <td>2013-10-02 03:00:00+00:00</td>\n",
       "      <td>2013-09-29T22:40:00-CME-001</td>\n",
       "    </tr>\n",
       "    <tr>\n",
       "      <th>5</th>\n",
       "      <td>2013-12-08T00:00:00-GST-001</td>\n",
       "      <td>2013-12-08 00:00:00+00:00</td>\n",
       "      <td>2013-12-04T23:12:00-CME-001</td>\n",
       "    </tr>\n",
       "    <tr>\n",
       "      <th>7</th>\n",
       "      <td>2014-02-19T03:00:00-GST-001</td>\n",
       "      <td>2014-02-19 03:00:00+00:00</td>\n",
       "      <td>2014-02-16T14:15:00-CME-001</td>\n",
       "    </tr>\n",
       "    <tr>\n",
       "      <th>9</th>\n",
       "      <td>2014-02-20T03:00:00-GST-001</td>\n",
       "      <td>2014-02-20 03:00:00+00:00</td>\n",
       "      <td>2014-02-18T01:25:00-CME-001</td>\n",
       "    </tr>\n",
       "  </tbody>\n",
       "</table>\n",
       "</div>"
      ],
      "text/plain": [
       "                         gstID             startTime_GST               CME_ActivityID\n",
       "1  2013-06-07T03:00:00-GST-001 2013-06-07 03:00:00+00:00  2013-06-02T20:24:00-CME-001\n",
       "2  2013-10-02T03:00:00-GST-001 2013-10-02 03:00:00+00:00  2013-09-29T22:40:00-CME-001\n",
       "5  2013-12-08T00:00:00-GST-001 2013-12-08 00:00:00+00:00  2013-12-04T23:12:00-CME-001\n",
       "7  2014-02-19T03:00:00-GST-001 2014-02-19 03:00:00+00:00  2014-02-16T14:15:00-CME-001\n",
       "9  2014-02-20T03:00:00-GST-001 2014-02-20 03:00:00+00:00  2014-02-18T01:25:00-CME-001"
      ]
     },
     "execution_count": 211,
     "metadata": {},
     "output_type": "execute_result"
    }
   ],
   "source": [
    "# We are only interested in GSTs related to CMEs so keep only rows where the CME_ActivityID column contains 'CME'\n",
    "# use the method 'contains()' from the str library.  \n",
    "gst_df = gst_df[gst_df['CME_ActivityID'].str.contains('CME', na=False)]\n",
    "\n",
    "#print(\"Filtered DataFrame with only GSTs related to CMEs:\")\n",
    "gst_df.head()\n"
   ]
  },
  {
   "cell_type": "markdown",
   "metadata": {},
   "source": [
    "### Merge both datatsets"
   ]
  },
  {
   "cell_type": "code",
   "execution_count": 24,
   "metadata": {},
   "outputs": [
    {
     "data": {
      "text/html": [
       "<div>\n",
       "<style scoped>\n",
       "    .dataframe tbody tr th:only-of-type {\n",
       "        vertical-align: middle;\n",
       "    }\n",
       "\n",
       "    .dataframe tbody tr th {\n",
       "        vertical-align: top;\n",
       "    }\n",
       "\n",
       "    .dataframe thead th {\n",
       "        text-align: right;\n",
       "    }\n",
       "</style>\n",
       "<table border=\"1\" class=\"dataframe\">\n",
       "  <thead>\n",
       "    <tr style=\"text-align: right;\">\n",
       "      <th></th>\n",
       "      <th>gstID</th>\n",
       "      <th>startTime_GST</th>\n",
       "      <th>CME_ActivityID</th>\n",
       "      <th>cmeID</th>\n",
       "      <th>startTime_CME</th>\n",
       "      <th>GST_ActivityID</th>\n",
       "    </tr>\n",
       "  </thead>\n",
       "  <tbody>\n",
       "    <tr>\n",
       "      <th>0</th>\n",
       "      <td>2013-06-07T03:00:00-GST-001</td>\n",
       "      <td>2013-06-07 03:00:00+00:00</td>\n",
       "      <td>2013-06-02T20:24:00-CME-001</td>\n",
       "      <td>2013-06-02T20:24:00-CME-001</td>\n",
       "      <td>2013-06-02 20:24:00+00:00</td>\n",
       "      <td>2013-06-07T03:00:00-GST-001</td>\n",
       "    </tr>\n",
       "    <tr>\n",
       "      <th>1</th>\n",
       "      <td>2013-10-02T03:00:00-GST-001</td>\n",
       "      <td>2013-10-02 03:00:00+00:00</td>\n",
       "      <td>2013-09-29T22:40:00-CME-001</td>\n",
       "      <td>2013-09-29T22:40:00-CME-001</td>\n",
       "      <td>2013-09-29 22:40:00+00:00</td>\n",
       "      <td>2013-10-02T03:00:00-GST-001</td>\n",
       "    </tr>\n",
       "    <tr>\n",
       "      <th>2</th>\n",
       "      <td>2013-12-08T00:00:00-GST-001</td>\n",
       "      <td>2013-12-08 00:00:00+00:00</td>\n",
       "      <td>2013-12-04T23:12:00-CME-001</td>\n",
       "      <td>2013-12-04T23:12:00-CME-001</td>\n",
       "      <td>2013-12-04 23:12:00+00:00</td>\n",
       "      <td>2013-12-08T00:00:00-GST-001</td>\n",
       "    </tr>\n",
       "    <tr>\n",
       "      <th>3</th>\n",
       "      <td>2014-02-19T03:00:00-GST-001</td>\n",
       "      <td>2014-02-19 03:00:00+00:00</td>\n",
       "      <td>2014-02-16T14:15:00-CME-001</td>\n",
       "      <td>2014-02-16T14:15:00-CME-001</td>\n",
       "      <td>2014-02-16 14:15:00+00:00</td>\n",
       "      <td>2014-02-19T03:00:00-GST-001</td>\n",
       "    </tr>\n",
       "    <tr>\n",
       "      <th>4</th>\n",
       "      <td>2014-02-20T03:00:00-GST-001</td>\n",
       "      <td>2014-02-20 03:00:00+00:00</td>\n",
       "      <td>2014-02-18T01:25:00-CME-001</td>\n",
       "      <td>2014-02-18T01:25:00-CME-001</td>\n",
       "      <td>2014-02-18 01:25:00+00:00</td>\n",
       "      <td>2014-02-20T03:00:00-GST-001</td>\n",
       "    </tr>\n",
       "  </tbody>\n",
       "</table>\n",
       "</div>"
      ],
      "text/plain": [
       "                         gstID             startTime_GST  \\\n",
       "0  2013-06-07T03:00:00-GST-001 2013-06-07 03:00:00+00:00   \n",
       "1  2013-10-02T03:00:00-GST-001 2013-10-02 03:00:00+00:00   \n",
       "2  2013-12-08T00:00:00-GST-001 2013-12-08 00:00:00+00:00   \n",
       "3  2014-02-19T03:00:00-GST-001 2014-02-19 03:00:00+00:00   \n",
       "4  2014-02-20T03:00:00-GST-001 2014-02-20 03:00:00+00:00   \n",
       "\n",
       "                CME_ActivityID                        cmeID  \\\n",
       "0  2013-06-02T20:24:00-CME-001  2013-06-02T20:24:00-CME-001   \n",
       "1  2013-09-29T22:40:00-CME-001  2013-09-29T22:40:00-CME-001   \n",
       "2  2013-12-04T23:12:00-CME-001  2013-12-04T23:12:00-CME-001   \n",
       "3  2014-02-16T14:15:00-CME-001  2014-02-16T14:15:00-CME-001   \n",
       "4  2014-02-18T01:25:00-CME-001  2014-02-18T01:25:00-CME-001   \n",
       "\n",
       "              startTime_CME               GST_ActivityID  \n",
       "0 2013-06-02 20:24:00+00:00  2013-06-07T03:00:00-GST-001  \n",
       "1 2013-09-29 22:40:00+00:00  2013-10-02T03:00:00-GST-001  \n",
       "2 2013-12-04 23:12:00+00:00  2013-12-08T00:00:00-GST-001  \n",
       "3 2014-02-16 14:15:00+00:00  2014-02-19T03:00:00-GST-001  \n",
       "4 2014-02-18 01:25:00+00:00  2014-02-20T03:00:00-GST-001  "
      ]
     },
     "execution_count": 24,
     "metadata": {},
     "output_type": "execute_result"
    }
   ],
   "source": [
    "# Now merge both datasets using 'gstID' and 'CME_ActivityID' for gst and 'GST_ActivityID' and 'cmeID' for cme. Use the 'left_on' and 'right_on' specifiers.\n"
   ]
  },
  {
   "cell_type": "code",
   "execution_count": 25,
   "metadata": {},
   "outputs": [
    {
     "name": "stdout",
     "output_type": "stream",
     "text": [
      "<class 'pandas.core.frame.DataFrame'>\n",
      "RangeIndex: 67 entries, 0 to 66\n",
      "Data columns (total 6 columns):\n",
      " #   Column          Non-Null Count  Dtype              \n",
      "---  ------          --------------  -----              \n",
      " 0   gstID           67 non-null     string             \n",
      " 1   startTime_GST   67 non-null     datetime64[ns, UTC]\n",
      " 2   CME_ActivityID  67 non-null     object             \n",
      " 3   cmeID           67 non-null     object             \n",
      " 4   startTime_CME   67 non-null     datetime64[ns, UTC]\n",
      " 5   GST_ActivityID  67 non-null     string             \n",
      "dtypes: datetime64[ns, UTC](2), object(2), string(2)\n",
      "memory usage: 3.3+ KB\n"
     ]
    }
   ],
   "source": [
    "# Verify that the new DataFrame has the same number of rows as cme and gst\n"
   ]
  },
  {
   "cell_type": "markdown",
   "metadata": {},
   "source": [
    "### Computing the time it takes for a CME to cause a GST"
   ]
  },
  {
   "cell_type": "code",
   "execution_count": 26,
   "metadata": {},
   "outputs": [
    {
     "data": {
      "text/html": [
       "<div>\n",
       "<style scoped>\n",
       "    .dataframe tbody tr th:only-of-type {\n",
       "        vertical-align: middle;\n",
       "    }\n",
       "\n",
       "    .dataframe tbody tr th {\n",
       "        vertical-align: top;\n",
       "    }\n",
       "\n",
       "    .dataframe thead th {\n",
       "        text-align: right;\n",
       "    }\n",
       "</style>\n",
       "<table border=\"1\" class=\"dataframe\">\n",
       "  <thead>\n",
       "    <tr style=\"text-align: right;\">\n",
       "      <th></th>\n",
       "      <th>gstID</th>\n",
       "      <th>startTime_GST</th>\n",
       "      <th>CME_ActivityID</th>\n",
       "      <th>cmeID</th>\n",
       "      <th>startTime_CME</th>\n",
       "      <th>GST_ActivityID</th>\n",
       "      <th>timeDiff</th>\n",
       "    </tr>\n",
       "  </thead>\n",
       "  <tbody>\n",
       "    <tr>\n",
       "      <th>0</th>\n",
       "      <td>2013-06-07T03:00:00-GST-001</td>\n",
       "      <td>2013-06-07 03:00:00+00:00</td>\n",
       "      <td>2013-06-02T20:24:00-CME-001</td>\n",
       "      <td>2013-06-02T20:24:00-CME-001</td>\n",
       "      <td>2013-06-02 20:24:00+00:00</td>\n",
       "      <td>2013-06-07T03:00:00-GST-001</td>\n",
       "      <td>4 days 06:36:00</td>\n",
       "    </tr>\n",
       "    <tr>\n",
       "      <th>1</th>\n",
       "      <td>2013-10-02T03:00:00-GST-001</td>\n",
       "      <td>2013-10-02 03:00:00+00:00</td>\n",
       "      <td>2013-09-29T22:40:00-CME-001</td>\n",
       "      <td>2013-09-29T22:40:00-CME-001</td>\n",
       "      <td>2013-09-29 22:40:00+00:00</td>\n",
       "      <td>2013-10-02T03:00:00-GST-001</td>\n",
       "      <td>2 days 04:20:00</td>\n",
       "    </tr>\n",
       "    <tr>\n",
       "      <th>2</th>\n",
       "      <td>2013-12-08T00:00:00-GST-001</td>\n",
       "      <td>2013-12-08 00:00:00+00:00</td>\n",
       "      <td>2013-12-04T23:12:00-CME-001</td>\n",
       "      <td>2013-12-04T23:12:00-CME-001</td>\n",
       "      <td>2013-12-04 23:12:00+00:00</td>\n",
       "      <td>2013-12-08T00:00:00-GST-001</td>\n",
       "      <td>3 days 00:48:00</td>\n",
       "    </tr>\n",
       "    <tr>\n",
       "      <th>3</th>\n",
       "      <td>2014-02-19T03:00:00-GST-001</td>\n",
       "      <td>2014-02-19 03:00:00+00:00</td>\n",
       "      <td>2014-02-16T14:15:00-CME-001</td>\n",
       "      <td>2014-02-16T14:15:00-CME-001</td>\n",
       "      <td>2014-02-16 14:15:00+00:00</td>\n",
       "      <td>2014-02-19T03:00:00-GST-001</td>\n",
       "      <td>2 days 12:45:00</td>\n",
       "    </tr>\n",
       "    <tr>\n",
       "      <th>4</th>\n",
       "      <td>2014-02-20T03:00:00-GST-001</td>\n",
       "      <td>2014-02-20 03:00:00+00:00</td>\n",
       "      <td>2014-02-18T01:25:00-CME-001</td>\n",
       "      <td>2014-02-18T01:25:00-CME-001</td>\n",
       "      <td>2014-02-18 01:25:00+00:00</td>\n",
       "      <td>2014-02-20T03:00:00-GST-001</td>\n",
       "      <td>2 days 01:35:00</td>\n",
       "    </tr>\n",
       "  </tbody>\n",
       "</table>\n",
       "</div>"
      ],
      "text/plain": [
       "                         gstID             startTime_GST  \\\n",
       "0  2013-06-07T03:00:00-GST-001 2013-06-07 03:00:00+00:00   \n",
       "1  2013-10-02T03:00:00-GST-001 2013-10-02 03:00:00+00:00   \n",
       "2  2013-12-08T00:00:00-GST-001 2013-12-08 00:00:00+00:00   \n",
       "3  2014-02-19T03:00:00-GST-001 2014-02-19 03:00:00+00:00   \n",
       "4  2014-02-20T03:00:00-GST-001 2014-02-20 03:00:00+00:00   \n",
       "\n",
       "                CME_ActivityID                        cmeID  \\\n",
       "0  2013-06-02T20:24:00-CME-001  2013-06-02T20:24:00-CME-001   \n",
       "1  2013-09-29T22:40:00-CME-001  2013-09-29T22:40:00-CME-001   \n",
       "2  2013-12-04T23:12:00-CME-001  2013-12-04T23:12:00-CME-001   \n",
       "3  2014-02-16T14:15:00-CME-001  2014-02-16T14:15:00-CME-001   \n",
       "4  2014-02-18T01:25:00-CME-001  2014-02-18T01:25:00-CME-001   \n",
       "\n",
       "              startTime_CME               GST_ActivityID        timeDiff  \n",
       "0 2013-06-02 20:24:00+00:00  2013-06-07T03:00:00-GST-001 4 days 06:36:00  \n",
       "1 2013-09-29 22:40:00+00:00  2013-10-02T03:00:00-GST-001 2 days 04:20:00  \n",
       "2 2013-12-04 23:12:00+00:00  2013-12-08T00:00:00-GST-001 3 days 00:48:00  \n",
       "3 2014-02-16 14:15:00+00:00  2014-02-19T03:00:00-GST-001 2 days 12:45:00  \n",
       "4 2014-02-18 01:25:00+00:00  2014-02-20T03:00:00-GST-001 2 days 01:35:00  "
      ]
     },
     "execution_count": 26,
     "metadata": {},
     "output_type": "execute_result"
    }
   ],
   "source": [
    "# Compute the time diff between startTime_GST and startTime_CME by creating a new column called `timeDiff`.\n"
   ]
  },
  {
   "cell_type": "code",
   "execution_count": 27,
   "metadata": {},
   "outputs": [
    {
     "data": {
      "text/html": [
       "<div>\n",
       "<style scoped>\n",
       "    .dataframe tbody tr th:only-of-type {\n",
       "        vertical-align: middle;\n",
       "    }\n",
       "\n",
       "    .dataframe tbody tr th {\n",
       "        vertical-align: top;\n",
       "    }\n",
       "\n",
       "    .dataframe thead th {\n",
       "        text-align: right;\n",
       "    }\n",
       "</style>\n",
       "<table border=\"1\" class=\"dataframe\">\n",
       "  <thead>\n",
       "    <tr style=\"text-align: right;\">\n",
       "      <th></th>\n",
       "      <th>timeDiff</th>\n",
       "    </tr>\n",
       "  </thead>\n",
       "  <tbody>\n",
       "    <tr>\n",
       "      <th>count</th>\n",
       "      <td>67</td>\n",
       "    </tr>\n",
       "    <tr>\n",
       "      <th>mean</th>\n",
       "      <td>2 days 21:35:13.432835820</td>\n",
       "    </tr>\n",
       "    <tr>\n",
       "      <th>std</th>\n",
       "      <td>1 days 00:02:46.681279427</td>\n",
       "    </tr>\n",
       "    <tr>\n",
       "      <th>min</th>\n",
       "      <td>1 days 05:36:00</td>\n",
       "    </tr>\n",
       "    <tr>\n",
       "      <th>25%</th>\n",
       "      <td>2 days 03:12:00</td>\n",
       "    </tr>\n",
       "    <tr>\n",
       "      <th>50%</th>\n",
       "      <td>2 days 17:48:00</td>\n",
       "    </tr>\n",
       "    <tr>\n",
       "      <th>75%</th>\n",
       "      <td>3 days 12:17:00</td>\n",
       "    </tr>\n",
       "    <tr>\n",
       "      <th>max</th>\n",
       "      <td>6 days 03:00:00</td>\n",
       "    </tr>\n",
       "  </tbody>\n",
       "</table>\n",
       "</div>"
      ],
      "text/plain": [
       "                        timeDiff\n",
       "count                         67\n",
       "mean   2 days 21:35:13.432835820\n",
       "std    1 days 00:02:46.681279427\n",
       "min              1 days 05:36:00\n",
       "25%              2 days 03:12:00\n",
       "50%              2 days 17:48:00\n",
       "75%              3 days 12:17:00\n",
       "max              6 days 03:00:00"
      ]
     },
     "execution_count": 27,
     "metadata": {},
     "output_type": "execute_result"
    }
   ],
   "source": [
    "# Use describe() to compute the mean and median time \n",
    "# that it takes for a CME to cause a GST. \n"
   ]
  },
  {
   "cell_type": "markdown",
   "metadata": {},
   "source": [
    "### Exporting data in csv format"
   ]
  },
  {
   "cell_type": "code",
   "execution_count": 28,
   "metadata": {},
   "outputs": [],
   "source": [
    "# Export data to CSV without the index\n"
   ]
  }
 ],
 "metadata": {
  "kernelspec": {
   "display_name": "base",
   "language": "python",
   "name": "python3"
  },
  "language_info": {
   "codemirror_mode": {
    "name": "ipython",
    "version": 3
   },
   "file_extension": ".py",
   "mimetype": "text/x-python",
   "name": "python",
   "nbconvert_exporter": "python",
   "pygments_lexer": "ipython3",
   "version": "3.12.7"
  },
  "varInspector": {
   "cols": {
    "lenName": 16,
    "lenType": 16,
    "lenVar": 40
   },
   "kernels_config": {
    "python": {
     "delete_cmd_postfix": "",
     "delete_cmd_prefix": "del ",
     "library": "var_list.py",
     "varRefreshCmd": "print(var_dic_list())"
    },
    "r": {
     "delete_cmd_postfix": ") ",
     "delete_cmd_prefix": "rm(",
     "library": "var_list.r",
     "varRefreshCmd": "cat(var_dic_list()) "
    }
   },
   "types_to_exclude": [
    "module",
    "function",
    "builtin_function_or_method",
    "instance",
    "_Feature"
   ],
   "window_display": false
  }
 },
 "nbformat": 4,
 "nbformat_minor": 4
}
